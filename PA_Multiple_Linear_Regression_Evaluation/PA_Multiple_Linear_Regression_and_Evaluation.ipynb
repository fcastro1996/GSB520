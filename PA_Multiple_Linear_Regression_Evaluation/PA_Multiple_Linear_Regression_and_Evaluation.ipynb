{
 "cells": [
  {
   "cell_type": "raw",
   "metadata": {},
   "source": [
    "---\n",
    "format:\n",
    "  html:\n",
    "    page-layout: full\n",
    "    code fold: false\n",
    "    toc: true\n",
    "    toc_float: true\n",
    "    toc-title: Table Of Contents\n",
    "    toc-location: left\n",
    "    theme: cosmo\n",
    "    self-contained: true\n",
    "    number-sections: true\n",
    "---"
   ]
  },
  {
   "cell_type": "code",
   "execution_count": 228,
   "metadata": {
    "id": "PMPf_MezB5j-"
   },
   "outputs": [],
   "source": [
    "import pandas as pd\n",
    "import numpy as np\n",
    "\n",
    "from plotnine import *\n",
    "\n",
    "from sklearn.pipeline import Pipeline\n",
    "from sklearn.linear_model import LinearRegression\n",
    "from sklearn.metrics import mean_squared_error\n",
    "from sklearn.preprocessing import OneHotEncoder\n",
    "from sklearn.compose import ColumnTransformer\n",
    "from sklearn.model_selection import train_test_split"
   ]
  },
  {
   "cell_type": "code",
   "execution_count": 229,
   "metadata": {
    "id": "ZfelGxj_CDbK"
   },
   "outputs": [],
   "source": [
    "#!pip install palmerpenguins\n",
    "from palmerpenguins import load_penguins\n",
    "penguins = load_penguins()\n",
    "penguins = penguins.dropna()"
   ]
  },
  {
   "cell_type": "markdown",
   "metadata": {
    "id": "FdLoheP-mrxn"
   },
   "source": [
    "# Palmer Penguins Modeling\n",
    "\n",
    "Import the Palmer Penguins dataset and print out the first few rows.\n",
    "\n",
    "Suppose we want to predict `bill_depth_mm` using the other variables in the dataset.\n",
    "\n",
    "**Dummify** all variables that require this."
   ]
  },
  {
   "cell_type": "markdown",
   "metadata": {
    "id": "dgTDkFTCNjBN"
   },
   "source": [
    "# Full Model predicting `bill_depth_mm` with all variables"
   ]
  },
  {
   "cell_type": "code",
   "execution_count": 230,
   "metadata": {
    "id": "N5lG475yllju"
   },
   "outputs": [],
   "source": [
    "#creating the target and the predictor variables\n",
    "X = penguins.drop('bill_depth_mm', axis = 1)\n",
    "y = penguins['bill_depth_mm']"
   ]
  },
  {
   "cell_type": "code",
   "execution_count": 231,
   "metadata": {
    "id": "XSKSDrdyD67H"
   },
   "outputs": [],
   "source": [
    "X_train, X_test, y_train, y_test = train_test_split(X, y, test_size=0.25)"
   ]
  },
  {
   "cell_type": "code",
   "execution_count": 232,
   "metadata": {
    "id": "0Th1M3azAgHY"
   },
   "outputs": [],
   "source": [
    "# Showing how to one-hot-encode  multiple columns in one go\n",
    "## Preprocessing: One-Hot-Encode\n",
    "## Model Spec: Linear Regression\n",
    "\n",
    "#renaming the model specification\n",
    "lr = LinearRegression()\n",
    "\n",
    "#renaming the preprocessor\n",
    "enc = OneHotEncoder()\n",
    "\n",
    "#renaming the transformer\n",
    "ct = ColumnTransformer(\n",
    "    [(\"dummify_specied\", enc, [\"species\"]),\n",
    "    (\"dummify_island\", enc, [\"island\"]),\n",
    "    (\"dummify_sex\", enc, [\"sex\"])],\n",
    ")\n",
    "#>>> pipe = Pipeline([('scaler', StandardScaler()), ('svc', SVC())]) #just example code for pipe syntax\n",
    "\n",
    "#naming teh pipeline\n",
    "my_pipeline = Pipeline(\n",
    "    [('dummify_everything', ct), ('ols', lr)]\n",
    ")"
   ]
  },
  {
   "cell_type": "code",
   "execution_count": 233,
   "metadata": {
    "colab": {
     "base_uri": "https://localhost:8080/",
     "height": 189
    },
    "id": "FsyP3wrXAgLO",
    "outputId": "5e9e2f44-cf25-4ff8-cb9f-6233669185bf"
   },
   "outputs": [
    {
     "data": {
      "text/html": [
       "<style>#sk-container-id-12 {color: black;background-color: white;}#sk-container-id-12 pre{padding: 0;}#sk-container-id-12 div.sk-toggleable {background-color: white;}#sk-container-id-12 label.sk-toggleable__label {cursor: pointer;display: block;width: 100%;margin-bottom: 0;padding: 0.3em;box-sizing: border-box;text-align: center;}#sk-container-id-12 label.sk-toggleable__label-arrow:before {content: \"▸\";float: left;margin-right: 0.25em;color: #696969;}#sk-container-id-12 label.sk-toggleable__label-arrow:hover:before {color: black;}#sk-container-id-12 div.sk-estimator:hover label.sk-toggleable__label-arrow:before {color: black;}#sk-container-id-12 div.sk-toggleable__content {max-height: 0;max-width: 0;overflow: hidden;text-align: left;background-color: #f0f8ff;}#sk-container-id-12 div.sk-toggleable__content pre {margin: 0.2em;color: black;border-radius: 0.25em;background-color: #f0f8ff;}#sk-container-id-12 input.sk-toggleable__control:checked~div.sk-toggleable__content {max-height: 200px;max-width: 100%;overflow: auto;}#sk-container-id-12 input.sk-toggleable__control:checked~label.sk-toggleable__label-arrow:before {content: \"▾\";}#sk-container-id-12 div.sk-estimator input.sk-toggleable__control:checked~label.sk-toggleable__label {background-color: #d4ebff;}#sk-container-id-12 div.sk-label input.sk-toggleable__control:checked~label.sk-toggleable__label {background-color: #d4ebff;}#sk-container-id-12 input.sk-hidden--visually {border: 0;clip: rect(1px 1px 1px 1px);clip: rect(1px, 1px, 1px, 1px);height: 1px;margin: -1px;overflow: hidden;padding: 0;position: absolute;width: 1px;}#sk-container-id-12 div.sk-estimator {font-family: monospace;background-color: #f0f8ff;border: 1px dotted black;border-radius: 0.25em;box-sizing: border-box;margin-bottom: 0.5em;}#sk-container-id-12 div.sk-estimator:hover {background-color: #d4ebff;}#sk-container-id-12 div.sk-parallel-item::after {content: \"\";width: 100%;border-bottom: 1px solid gray;flex-grow: 1;}#sk-container-id-12 div.sk-label:hover label.sk-toggleable__label {background-color: #d4ebff;}#sk-container-id-12 div.sk-serial::before {content: \"\";position: absolute;border-left: 1px solid gray;box-sizing: border-box;top: 0;bottom: 0;left: 50%;z-index: 0;}#sk-container-id-12 div.sk-serial {display: flex;flex-direction: column;align-items: center;background-color: white;padding-right: 0.2em;padding-left: 0.2em;position: relative;}#sk-container-id-12 div.sk-item {position: relative;z-index: 1;}#sk-container-id-12 div.sk-parallel {display: flex;align-items: stretch;justify-content: center;background-color: white;position: relative;}#sk-container-id-12 div.sk-item::before, #sk-container-id-12 div.sk-parallel-item::before {content: \"\";position: absolute;border-left: 1px solid gray;box-sizing: border-box;top: 0;bottom: 0;left: 50%;z-index: -1;}#sk-container-id-12 div.sk-parallel-item {display: flex;flex-direction: column;z-index: 1;position: relative;background-color: white;}#sk-container-id-12 div.sk-parallel-item:first-child::after {align-self: flex-end;width: 50%;}#sk-container-id-12 div.sk-parallel-item:last-child::after {align-self: flex-start;width: 50%;}#sk-container-id-12 div.sk-parallel-item:only-child::after {width: 0;}#sk-container-id-12 div.sk-dashed-wrapped {border: 1px dashed gray;margin: 0 0.4em 0.5em 0.4em;box-sizing: border-box;padding-bottom: 0.4em;background-color: white;}#sk-container-id-12 div.sk-label label {font-family: monospace;font-weight: bold;display: inline-block;line-height: 1.2em;}#sk-container-id-12 div.sk-label-container {text-align: center;}#sk-container-id-12 div.sk-container {/* jupyter's `normalize.less` sets `[hidden] { display: none; }` but bootstrap.min.css set `[hidden] { display: none !important; }` so we also need the `!important` here to be able to override the default hidden behavior on the sphinx rendered scikit-learn.org. See: https://github.com/scikit-learn/scikit-learn/issues/21755 */display: inline-block !important;position: relative;}#sk-container-id-12 div.sk-text-repr-fallback {display: none;}</style><div id=\"sk-container-id-12\" class=\"sk-top-container\"><div class=\"sk-text-repr-fallback\"><pre>Pipeline(steps=[(&#x27;dummify_everything&#x27;,\n",
       "                 ColumnTransformer(transformers=[(&#x27;dummify_specied&#x27;,\n",
       "                                                  OneHotEncoder(),\n",
       "                                                  [&#x27;species&#x27;]),\n",
       "                                                 (&#x27;dummify_island&#x27;,\n",
       "                                                  OneHotEncoder(), [&#x27;island&#x27;]),\n",
       "                                                 (&#x27;dummify_sex&#x27;,\n",
       "                                                  OneHotEncoder(), [&#x27;sex&#x27;])])),\n",
       "                (&#x27;ols&#x27;, LinearRegression())])</pre><b>In a Jupyter environment, please rerun this cell to show the HTML representation or trust the notebook. <br />On GitHub, the HTML representation is unable to render, please try loading this page with nbviewer.org.</b></div><div class=\"sk-container\" hidden><div class=\"sk-item sk-dashed-wrapped\"><div class=\"sk-label-container\"><div class=\"sk-label sk-toggleable\"><input class=\"sk-toggleable__control sk-hidden--visually\" id=\"sk-estimator-id-100\" type=\"checkbox\" ><label for=\"sk-estimator-id-100\" class=\"sk-toggleable__label sk-toggleable__label-arrow\">Pipeline</label><div class=\"sk-toggleable__content\"><pre>Pipeline(steps=[(&#x27;dummify_everything&#x27;,\n",
       "                 ColumnTransformer(transformers=[(&#x27;dummify_specied&#x27;,\n",
       "                                                  OneHotEncoder(),\n",
       "                                                  [&#x27;species&#x27;]),\n",
       "                                                 (&#x27;dummify_island&#x27;,\n",
       "                                                  OneHotEncoder(), [&#x27;island&#x27;]),\n",
       "                                                 (&#x27;dummify_sex&#x27;,\n",
       "                                                  OneHotEncoder(), [&#x27;sex&#x27;])])),\n",
       "                (&#x27;ols&#x27;, LinearRegression())])</pre></div></div></div><div class=\"sk-serial\"><div class=\"sk-item sk-dashed-wrapped\"><div class=\"sk-label-container\"><div class=\"sk-label sk-toggleable\"><input class=\"sk-toggleable__control sk-hidden--visually\" id=\"sk-estimator-id-101\" type=\"checkbox\" ><label for=\"sk-estimator-id-101\" class=\"sk-toggleable__label sk-toggleable__label-arrow\">dummify_everything: ColumnTransformer</label><div class=\"sk-toggleable__content\"><pre>ColumnTransformer(transformers=[(&#x27;dummify_specied&#x27;, OneHotEncoder(),\n",
       "                                 [&#x27;species&#x27;]),\n",
       "                                (&#x27;dummify_island&#x27;, OneHotEncoder(), [&#x27;island&#x27;]),\n",
       "                                (&#x27;dummify_sex&#x27;, OneHotEncoder(), [&#x27;sex&#x27;])])</pre></div></div></div><div class=\"sk-parallel\"><div class=\"sk-parallel-item\"><div class=\"sk-item\"><div class=\"sk-label-container\"><div class=\"sk-label sk-toggleable\"><input class=\"sk-toggleable__control sk-hidden--visually\" id=\"sk-estimator-id-102\" type=\"checkbox\" ><label for=\"sk-estimator-id-102\" class=\"sk-toggleable__label sk-toggleable__label-arrow\">dummify_specied</label><div class=\"sk-toggleable__content\"><pre>[&#x27;species&#x27;]</pre></div></div></div><div class=\"sk-serial\"><div class=\"sk-item\"><div class=\"sk-estimator sk-toggleable\"><input class=\"sk-toggleable__control sk-hidden--visually\" id=\"sk-estimator-id-103\" type=\"checkbox\" ><label for=\"sk-estimator-id-103\" class=\"sk-toggleable__label sk-toggleable__label-arrow\">OneHotEncoder</label><div class=\"sk-toggleable__content\"><pre>OneHotEncoder()</pre></div></div></div></div></div></div><div class=\"sk-parallel-item\"><div class=\"sk-item\"><div class=\"sk-label-container\"><div class=\"sk-label sk-toggleable\"><input class=\"sk-toggleable__control sk-hidden--visually\" id=\"sk-estimator-id-104\" type=\"checkbox\" ><label for=\"sk-estimator-id-104\" class=\"sk-toggleable__label sk-toggleable__label-arrow\">dummify_island</label><div class=\"sk-toggleable__content\"><pre>[&#x27;island&#x27;]</pre></div></div></div><div class=\"sk-serial\"><div class=\"sk-item\"><div class=\"sk-estimator sk-toggleable\"><input class=\"sk-toggleable__control sk-hidden--visually\" id=\"sk-estimator-id-105\" type=\"checkbox\" ><label for=\"sk-estimator-id-105\" class=\"sk-toggleable__label sk-toggleable__label-arrow\">OneHotEncoder</label><div class=\"sk-toggleable__content\"><pre>OneHotEncoder()</pre></div></div></div></div></div></div><div class=\"sk-parallel-item\"><div class=\"sk-item\"><div class=\"sk-label-container\"><div class=\"sk-label sk-toggleable\"><input class=\"sk-toggleable__control sk-hidden--visually\" id=\"sk-estimator-id-106\" type=\"checkbox\" ><label for=\"sk-estimator-id-106\" class=\"sk-toggleable__label sk-toggleable__label-arrow\">dummify_sex</label><div class=\"sk-toggleable__content\"><pre>[&#x27;sex&#x27;]</pre></div></div></div><div class=\"sk-serial\"><div class=\"sk-item\"><div class=\"sk-estimator sk-toggleable\"><input class=\"sk-toggleable__control sk-hidden--visually\" id=\"sk-estimator-id-107\" type=\"checkbox\" ><label for=\"sk-estimator-id-107\" class=\"sk-toggleable__label sk-toggleable__label-arrow\">OneHotEncoder</label><div class=\"sk-toggleable__content\"><pre>OneHotEncoder()</pre></div></div></div></div></div></div></div></div><div class=\"sk-item\"><div class=\"sk-estimator sk-toggleable\"><input class=\"sk-toggleable__control sk-hidden--visually\" id=\"sk-estimator-id-108\" type=\"checkbox\" ><label for=\"sk-estimator-id-108\" class=\"sk-toggleable__label sk-toggleable__label-arrow\">LinearRegression</label><div class=\"sk-toggleable__content\"><pre>LinearRegression()</pre></div></div></div></div></div></div></div>"
      ],
      "text/plain": [
       "Pipeline(steps=[('dummify_everything',\n",
       "                 ColumnTransformer(transformers=[('dummify_specied',\n",
       "                                                  OneHotEncoder(),\n",
       "                                                  ['species']),\n",
       "                                                 ('dummify_island',\n",
       "                                                  OneHotEncoder(), ['island']),\n",
       "                                                 ('dummify_sex',\n",
       "                                                  OneHotEncoder(), ['sex'])])),\n",
       "                ('ols', LinearRegression())])"
      ]
     },
     "execution_count": 233,
     "metadata": {},
     "output_type": "execute_result"
    }
   ],
   "source": [
    "#fitting the model on the entire dataset, test\n",
    "model_full = my_pipeline.fit(X_train, y_train)\n",
    "model_full"
   ]
  },
  {
   "cell_type": "code",
   "execution_count": 234,
   "metadata": {
    "id": "oMbr9opMEBzv"
   },
   "outputs": [],
   "source": [
    "#predictions for the test data\n",
    "model_full_test_pred = model_full.predict(X_test)\n",
    "#predictions for the training data\n",
    "model_full_train_pred = model_full.predict(X_train)"
   ]
  },
  {
   "cell_type": "code",
   "execution_count": 235,
   "metadata": {
    "colab": {
     "base_uri": "https://localhost:8080/"
    },
    "id": "SFlqprwCMErW",
    "outputId": "615757c1-7cc6-43ca-eb34-cbd51373f925"
   },
   "outputs": [
    {
     "name": "stdout",
     "output_type": "stream",
     "text": [
      "Mean Squared Error (MSE) Test Data: 0.7538739413306826\n",
      "Mean Squared Error (MSE) Training Data: 0.6653534131643761\n"
     ]
    }
   ],
   "source": [
    "# getting the mse_test\n",
    "model_full_mse_test = mean_squared_error(y_test, model_full_test_pred)\n",
    "print(f\"Mean Squared Error (MSE) Test Data: {model_full_mse_test}\")\n",
    "\n",
    "# getting the mse_train\n",
    "model_full_mse_train = mean_squared_error(y_train, model_full_train_pred)\n",
    "print(f\"Mean Squared Error (MSE) Training Data: {model_full_mse_train}\")"
   ]
  },
  {
   "cell_type": "code",
   "execution_count": 236,
   "metadata": {
    "colab": {
     "base_uri": "https://localhost:8080/"
    },
    "id": "qZpnPaKpgtRd",
    "outputId": "28c21f6f-1e09-4e59-df2d-fc22af71bec5"
   },
   "outputs": [
    {
     "name": "stdout",
     "output_type": "stream",
     "text": [
      "Number of features: 8\n"
     ]
    }
   ],
   "source": [
    "# number of features for model 1\n",
    "features_model_full = X.shape[1] + 1\n",
    "print(f\"Number of features: {features_model_full}\")"
   ]
  },
  {
   "cell_type": "markdown",
   "metadata": {
    "id": "TT1MVgaKm_gX"
   },
   "source": [
    "Let's use the other variables to predict `bill_depth_mm`. Prepare your data and fit the following models on the entire dataset:\n",
    "\n",
    "* Four different models, each containing a different set of predictor variables\n",
    "\n",
    "Create a plot like the right plot of Fig 1. in our `Model Validation` chapter with the training and test error plotted for each of your four models.\n",
    "\n",
    "Which of your models was best?"
   ]
  },
  {
   "cell_type": "markdown",
   "metadata": {
    "id": "Uhgm1XiHYb_X"
   },
   "source": [
    "# Model 1"
   ]
  },
  {
   "cell_type": "code",
   "execution_count": 237,
   "metadata": {
    "colab": {
     "base_uri": "https://localhost:8080/"
    },
    "id": "M6f7JWZTm6tn",
    "outputId": "cde3ae32-d2d3-423b-a0bb-1788b0d333aa"
   },
   "outputs": [
    {
     "name": "stdout",
     "output_type": "stream",
     "text": [
      "Mean Squared Error (MSE) Test Data: 0.7171692475818449\n",
      "Mean Squared Error (MSE) Training Data: 0.6752696724397592\n",
      "Number of columns: 7\n"
     ]
    }
   ],
   "source": [
    "#MODEL 1\n",
    "\n",
    "#creating the target and the predictor variables\n",
    "X_model_1 = penguins.drop(['bill_depth_mm','year'], axis=1)\n",
    "y_model_1 = penguins['bill_depth_mm']\n",
    "\n",
    "#creating the test sets and training sets for model 1\n",
    "X_train, X_test, y_train, y_test = train_test_split(X_model_1, y_model_1, test_size=0.25)\n",
    "\n",
    "#renaming the model specification\n",
    "lr = LinearRegression()\n",
    "\n",
    "#renaming the preprocessor\n",
    "enc = OneHotEncoder()\n",
    "\n",
    "#renaming the transformer\n",
    "ct = ColumnTransformer([(\"dummify_specied\", enc, [\"species\"]),(\"dummify_island\", enc, [\"island\"]),(\"dummify_sex\", enc, [\"sex\"])],)\n",
    "\n",
    "#naming teh pipeline\n",
    "model_1_pipeline = Pipeline([('dummify_everything', ct), ('ols', lr)])\n",
    "\n",
    "#fitting the model on the entire dataset, test\n",
    "model_1 = model_1_pipeline.fit(X_train, y_train)  #NOTE the same pipeline was used\n",
    "model_1\n",
    "\n",
    "#predictions for the test data\n",
    "model_1_test_pred = model_1.predict(X_test)\n",
    "#predictions for the training data\n",
    "model_1_train_pred = model_1.predict(X_train)\n",
    "\n",
    "# getting the mse_test\n",
    "model_1_mse_test = mean_squared_error(y_test, model_1_test_pred)\n",
    "print(f\"Mean Squared Error (MSE) Test Data: {model_1_mse_test}\")\n",
    "\n",
    "# getting the mse_train\n",
    "model_1_mse_train = mean_squared_error(y_train, model_1_train_pred)\n",
    "print(f\"Mean Squared Error (MSE) Training Data: {model_1_mse_train}\")\n",
    "\n",
    "# number of features for model 1\n",
    "features_model_1 = X_model_1.shape[1] + 1\n",
    "print(f\"Number of columns: {features_model_1}\")"
   ]
  },
  {
   "cell_type": "markdown",
   "metadata": {
    "id": "IBXFbbidfbBr"
   },
   "source": [
    "# Model 2"
   ]
  },
  {
   "cell_type": "code",
   "execution_count": 238,
   "metadata": {
    "colab": {
     "base_uri": "https://localhost:8080/"
    },
    "id": "4ODh7WQgN_K7",
    "outputId": "b2ab8a02-f105-4f4c-9587-2f75b8c28d2e"
   },
   "outputs": [
    {
     "name": "stdout",
     "output_type": "stream",
     "text": [
      "Mean Squared Error (MSE) Test Data: 0.8837202380952383\n",
      "Mean Squared Error (MSE) Training Data: 0.6969241026606425\n",
      "Number of features: 6\n"
     ]
    }
   ],
   "source": [
    "#MODEL 2\n",
    "\n",
    "#creating the target and the predictor variables\n",
    "X_model_2 = penguins.drop(['bill_depth_mm', 'year', 'island'], axis=1)\n",
    "y_model_2 = penguins['bill_depth_mm']\n",
    "\n",
    "#creating the test sets and training sets for model 1\n",
    "X_train, X_test, y_train, y_test = train_test_split(X_model_2, y_model_2, test_size=0.25)\n",
    "\n",
    "#renaming the model specification\n",
    "lr = LinearRegression()\n",
    "\n",
    "#renaming the preprocessor\n",
    "enc = OneHotEncoder()\n",
    "\n",
    "\n",
    "#renaming the transformer\n",
    "ct = ColumnTransformer([(\"dummify_specied\", enc, [\"species\"]),(\"dummify_sex\", enc, [\"sex\"])],)\n",
    "\n",
    "#naming teh pipeline\n",
    "model_2_pipeline = Pipeline([('dummify_everything', ct), ('ols', lr)])\n",
    "\n",
    "#fitting the model on the entire dataset, test\n",
    "model_2 = model_2_pipeline.fit(X_train, y_train)  #NOTE the same pipeline was used\n",
    "model_2\n",
    "\n",
    "#predictions for the test data\n",
    "model_2_test_pred = model_2.predict(X_test)\n",
    "#predictions for the training data\n",
    "model_2_train_pred = model_2.predict(X_train)\n",
    "\n",
    "# getting the mse_test\n",
    "model_2_mse_test = mean_squared_error(y_test, model_2_test_pred)\n",
    "print(f\"Mean Squared Error (MSE) Test Data: {model_2_mse_test}\")\n",
    "\n",
    "# getting the mse_train\n",
    "model_2_mse_train = mean_squared_error(y_train, model_2_train_pred)\n",
    "print(f\"Mean Squared Error (MSE) Training Data: {model1_mse_train}\")\n",
    "\n",
    "# number of features for model 1\n",
    "features_model_2 = X_model_2.shape[1] + 1\n",
    "print(f\"Number of features: {features_model_2}\")"
   ]
  },
  {
   "cell_type": "markdown",
   "metadata": {
    "id": "MGVQ30F-izTf"
   },
   "source": [
    "# Model 3"
   ]
  },
  {
   "cell_type": "code",
   "execution_count": 239,
   "metadata": {
    "colab": {
     "base_uri": "https://localhost:8080/"
    },
    "id": "nKV60ULNhAq_",
    "outputId": "83066f54-793e-4f85-da7d-3822e112617a"
   },
   "outputs": [
    {
     "name": "stdout",
     "output_type": "stream",
     "text": [
      "Mean Squared Error (MSE) Test Data: 2.225796132131935\n",
      "Mean Squared Error (MSE) Training Data: 0.6969241026606425\n",
      "Number of features: 4\n"
     ]
    }
   ],
   "source": [
    "#MODEL 3\n",
    "\n",
    "#creating the target and the predictor variables\n",
    "X_model_3 = penguins.drop(['bill_depth_mm', 'species', 'island', 'sex', 'year'], axis=1)\n",
    "y_model_3 = penguins['bill_depth_mm']\n",
    "\n",
    "#creating the test sets and training sets for model 1\n",
    "X_train, X_test, y_train, y_test = train_test_split(X_model_3, y_model_3, test_size=0.25)\n",
    "\n",
    "#renaming the model specification\n",
    "lr = LinearRegression()\n",
    "\n",
    "#naming the pipeline\n",
    "model_3_pipeline = Pipeline([('ols', lr)])\n",
    "\n",
    "#fitting the model on the entire dataset, test\n",
    "model_3 = model_3_pipeline.fit(X_train, y_train)  #NOTE the same pipeline was used\n",
    "model_3\n",
    "\n",
    "#predictions for the test data\n",
    "model_3_test_pred = model_3.predict(X_test)\n",
    "#predictions for the training data\n",
    "model_3_train_pred = model_3.predict(X_train)\n",
    "\n",
    "# getting the mse_test\n",
    "model_3_mse_test = mean_squared_error(y_test, model_3_test_pred)\n",
    "print(f\"Mean Squared Error (MSE) Test Data: {model_3_mse_test}\")\n",
    "\n",
    "# getting the mse_train\n",
    "model_3_mse_train = mean_squared_error(y_train, model_3_train_pred)\n",
    "print(f\"Mean Squared Error (MSE) Training Data: {model1_mse_train}\")\n",
    "\n",
    "# number of features for model 3\n",
    "features_model_3 = X_model_3.shape[1] + 1\n",
    "print(f\"Number of features: {features_model_3}\")"
   ]
  },
  {
   "cell_type": "markdown",
   "metadata": {
    "id": "TXMPyjBPi4_O"
   },
   "source": [
    "# Model 4"
   ]
  },
  {
   "cell_type": "code",
   "execution_count": 240,
   "metadata": {
    "colab": {
     "base_uri": "https://localhost:8080/"
    },
    "id": "TP6T-jgciQSj",
    "outputId": "4ab4e37c-2a93-4211-8386-e59c6f1da250"
   },
   "outputs": [
    {
     "name": "stdout",
     "output_type": "stream",
     "text": [
      "Mean Squared Error (MSE) Test Data: 0.9581938244047615\n",
      "Mean Squared Error (MSE) Training Data: 0.6373236696787149\n",
      "Number of columns: 5\n"
     ]
    }
   ],
   "source": [
    "#MODEL 4\n",
    "\n",
    "#creating the target and the predictor variables\n",
    "X_model_4 = penguins.drop(['bill_depth_mm','year', 'island', 'bill_length_mm'], axis=1)\n",
    "y_model_4 = penguins['bill_depth_mm']\n",
    "\n",
    "#creating the test sets and training sets for model 1\n",
    "X_train, X_test, y_train, y_test = train_test_split(X_model_4, y_model_4, test_size=0.25)\n",
    "\n",
    "#renaming the model specification\n",
    "lr = LinearRegression()\n",
    "\n",
    "#renaming the preprocessor\n",
    "enc = OneHotEncoder()\n",
    "\n",
    "#renaming the transformer\n",
    "ct = ColumnTransformer([(\"dummify_specied\", enc, [\"species\"]),(\"dummify_sex\", enc, [\"sex\"])],)\n",
    "\n",
    "#naming teh pipeline\n",
    "model_4_pipeline = Pipeline([('dummify_everything', ct), ('ols', lr)])\n",
    "\n",
    "#fitting the model on the entire dataset, test\n",
    "model_4 = model_4_pipeline.fit(X_train, y_train)  #NOTE the same pipeline was used\n",
    "model_4\n",
    "\n",
    "#predictions for the test data\n",
    "model_4_test_pred = model_4.predict(X_test)\n",
    "#predictions for the training data\n",
    "model_4_train_pred = model_4.predict(X_train)\n",
    "\n",
    "# getting the mse_test\n",
    "model_4_mse_test = mean_squared_error(y_test, model_4_test_pred)\n",
    "print(f\"Mean Squared Error (MSE) Test Data: {model_4_mse_test}\")\n",
    "\n",
    "# getting the mse_train\n",
    "model_4_mse_train = mean_squared_error(y_train, model_4_train_pred)\n",
    "print(f\"Mean Squared Error (MSE) Training Data: {model_4_mse_train}\")\n",
    "\n",
    "# number of features for model 4\n",
    "features_model_4 = X_model_4.shape[1] + 1\n",
    "print(f\"Number of columns: {features_model_4}\")"
   ]
  },
  {
   "cell_type": "markdown",
   "metadata": {
    "id": "umXF1EP6OGls"
   },
   "source": [
    "#Plot for comparisons"
   ]
  },
  {
   "cell_type": "code",
   "execution_count": 241,
   "metadata": {
    "colab": {
     "base_uri": "https://localhost:8080/",
     "height": 206
    },
    "id": "1bJC_sbdD_rn",
    "outputId": "8ee5aa20-6ba9-434d-849b-b01bb83a0712"
   },
   "outputs": [
    {
     "data": {
      "text/html": [
       "\n",
       "  <div id=\"df-22b6a5a9-27b6-476b-8551-1e242f28d5ac\" class=\"colab-df-container\">\n",
       "    <div>\n",
       "<style scoped>\n",
       "    .dataframe tbody tr th:only-of-type {\n",
       "        vertical-align: middle;\n",
       "    }\n",
       "\n",
       "    .dataframe tbody tr th {\n",
       "        vertical-align: top;\n",
       "    }\n",
       "\n",
       "    .dataframe thead th {\n",
       "        text-align: right;\n",
       "    }\n",
       "</style>\n",
       "<table border=\"1\" class=\"dataframe\">\n",
       "  <thead>\n",
       "    <tr style=\"text-align: right;\">\n",
       "      <th></th>\n",
       "      <th>features</th>\n",
       "      <th>mse_test</th>\n",
       "      <th>mse_train</th>\n",
       "      <th>model</th>\n",
       "    </tr>\n",
       "  </thead>\n",
       "  <tbody>\n",
       "    <tr>\n",
       "      <th>0</th>\n",
       "      <td>8</td>\n",
       "      <td>0.753874</td>\n",
       "      <td>0.665353</td>\n",
       "      <td>model_full</td>\n",
       "    </tr>\n",
       "    <tr>\n",
       "      <th>1</th>\n",
       "      <td>7</td>\n",
       "      <td>0.717169</td>\n",
       "      <td>0.675270</td>\n",
       "      <td>model_1</td>\n",
       "    </tr>\n",
       "    <tr>\n",
       "      <th>2</th>\n",
       "      <td>6</td>\n",
       "      <td>0.883720</td>\n",
       "      <td>0.658149</td>\n",
       "      <td>model_2</td>\n",
       "    </tr>\n",
       "    <tr>\n",
       "      <th>3</th>\n",
       "      <td>4</td>\n",
       "      <td>2.225796</td>\n",
       "      <td>2.482593</td>\n",
       "      <td>model_3</td>\n",
       "    </tr>\n",
       "    <tr>\n",
       "      <th>4</th>\n",
       "      <td>5</td>\n",
       "      <td>0.958194</td>\n",
       "      <td>0.637324</td>\n",
       "      <td>model_4</td>\n",
       "    </tr>\n",
       "  </tbody>\n",
       "</table>\n",
       "</div>\n",
       "    <div class=\"colab-df-buttons\">\n",
       "\n",
       "  <div class=\"colab-df-container\">\n",
       "    <button class=\"colab-df-convert\" onclick=\"convertToInteractive('df-22b6a5a9-27b6-476b-8551-1e242f28d5ac')\"\n",
       "            title=\"Convert this dataframe to an interactive table.\"\n",
       "            style=\"display:none;\">\n",
       "\n",
       "  <svg xmlns=\"http://www.w3.org/2000/svg\" height=\"24px\" viewBox=\"0 -960 960 960\">\n",
       "    <path d=\"M120-120v-720h720v720H120Zm60-500h600v-160H180v160Zm220 220h160v-160H400v160Zm0 220h160v-160H400v160ZM180-400h160v-160H180v160Zm440 0h160v-160H620v160ZM180-180h160v-160H180v160Zm440 0h160v-160H620v160Z\"/>\n",
       "  </svg>\n",
       "    </button>\n",
       "\n",
       "  <style>\n",
       "    .colab-df-container {\n",
       "      display:flex;\n",
       "      gap: 12px;\n",
       "    }\n",
       "\n",
       "    .colab-df-convert {\n",
       "      background-color: #E8F0FE;\n",
       "      border: none;\n",
       "      border-radius: 50%;\n",
       "      cursor: pointer;\n",
       "      display: none;\n",
       "      fill: #1967D2;\n",
       "      height: 32px;\n",
       "      padding: 0 0 0 0;\n",
       "      width: 32px;\n",
       "    }\n",
       "\n",
       "    .colab-df-convert:hover {\n",
       "      background-color: #E2EBFA;\n",
       "      box-shadow: 0px 1px 2px rgba(60, 64, 67, 0.3), 0px 1px 3px 1px rgba(60, 64, 67, 0.15);\n",
       "      fill: #174EA6;\n",
       "    }\n",
       "\n",
       "    .colab-df-buttons div {\n",
       "      margin-bottom: 4px;\n",
       "    }\n",
       "\n",
       "    [theme=dark] .colab-df-convert {\n",
       "      background-color: #3B4455;\n",
       "      fill: #D2E3FC;\n",
       "    }\n",
       "\n",
       "    [theme=dark] .colab-df-convert:hover {\n",
       "      background-color: #434B5C;\n",
       "      box-shadow: 0px 1px 3px 1px rgba(0, 0, 0, 0.15);\n",
       "      filter: drop-shadow(0px 1px 2px rgba(0, 0, 0, 0.3));\n",
       "      fill: #FFFFFF;\n",
       "    }\n",
       "  </style>\n",
       "\n",
       "    <script>\n",
       "      const buttonEl =\n",
       "        document.querySelector('#df-22b6a5a9-27b6-476b-8551-1e242f28d5ac button.colab-df-convert');\n",
       "      buttonEl.style.display =\n",
       "        google.colab.kernel.accessAllowed ? 'block' : 'none';\n",
       "\n",
       "      async function convertToInteractive(key) {\n",
       "        const element = document.querySelector('#df-22b6a5a9-27b6-476b-8551-1e242f28d5ac');\n",
       "        const dataTable =\n",
       "          await google.colab.kernel.invokeFunction('convertToInteractive',\n",
       "                                                    [key], {});\n",
       "        if (!dataTable) return;\n",
       "\n",
       "        const docLinkHtml = 'Like what you see? Visit the ' +\n",
       "          '<a target=\"_blank\" href=https://colab.research.google.com/notebooks/data_table.ipynb>data table notebook</a>'\n",
       "          + ' to learn more about interactive tables.';\n",
       "        element.innerHTML = '';\n",
       "        dataTable['output_type'] = 'display_data';\n",
       "        await google.colab.output.renderOutput(dataTable, element);\n",
       "        const docLink = document.createElement('div');\n",
       "        docLink.innerHTML = docLinkHtml;\n",
       "        element.appendChild(docLink);\n",
       "      }\n",
       "    </script>\n",
       "  </div>\n",
       "\n",
       "\n",
       "<div id=\"df-9faca4a0-c55e-4f82-920f-ce67e1cb11c8\">\n",
       "  <button class=\"colab-df-quickchart\" onclick=\"quickchart('df-9faca4a0-c55e-4f82-920f-ce67e1cb11c8')\"\n",
       "            title=\"Suggest charts.\"\n",
       "            style=\"display:none;\">\n",
       "\n",
       "<svg xmlns=\"http://www.w3.org/2000/svg\" height=\"24px\"viewBox=\"0 0 24 24\"\n",
       "     width=\"24px\">\n",
       "    <g>\n",
       "        <path d=\"M19 3H5c-1.1 0-2 .9-2 2v14c0 1.1.9 2 2 2h14c1.1 0 2-.9 2-2V5c0-1.1-.9-2-2-2zM9 17H7v-7h2v7zm4 0h-2V7h2v10zm4 0h-2v-4h2v4z\"/>\n",
       "    </g>\n",
       "</svg>\n",
       "  </button>\n",
       "\n",
       "<style>\n",
       "  .colab-df-quickchart {\n",
       "      --bg-color: #E8F0FE;\n",
       "      --fill-color: #1967D2;\n",
       "      --hover-bg-color: #E2EBFA;\n",
       "      --hover-fill-color: #174EA6;\n",
       "      --disabled-fill-color: #AAA;\n",
       "      --disabled-bg-color: #DDD;\n",
       "  }\n",
       "\n",
       "  [theme=dark] .colab-df-quickchart {\n",
       "      --bg-color: #3B4455;\n",
       "      --fill-color: #D2E3FC;\n",
       "      --hover-bg-color: #434B5C;\n",
       "      --hover-fill-color: #FFFFFF;\n",
       "      --disabled-bg-color: #3B4455;\n",
       "      --disabled-fill-color: #666;\n",
       "  }\n",
       "\n",
       "  .colab-df-quickchart {\n",
       "    background-color: var(--bg-color);\n",
       "    border: none;\n",
       "    border-radius: 50%;\n",
       "    cursor: pointer;\n",
       "    display: none;\n",
       "    fill: var(--fill-color);\n",
       "    height: 32px;\n",
       "    padding: 0;\n",
       "    width: 32px;\n",
       "  }\n",
       "\n",
       "  .colab-df-quickchart:hover {\n",
       "    background-color: var(--hover-bg-color);\n",
       "    box-shadow: 0 1px 2px rgba(60, 64, 67, 0.3), 0 1px 3px 1px rgba(60, 64, 67, 0.15);\n",
       "    fill: var(--button-hover-fill-color);\n",
       "  }\n",
       "\n",
       "  .colab-df-quickchart-complete:disabled,\n",
       "  .colab-df-quickchart-complete:disabled:hover {\n",
       "    background-color: var(--disabled-bg-color);\n",
       "    fill: var(--disabled-fill-color);\n",
       "    box-shadow: none;\n",
       "  }\n",
       "\n",
       "  .colab-df-spinner {\n",
       "    border: 2px solid var(--fill-color);\n",
       "    border-color: transparent;\n",
       "    border-bottom-color: var(--fill-color);\n",
       "    animation:\n",
       "      spin 1s steps(1) infinite;\n",
       "  }\n",
       "\n",
       "  @keyframes spin {\n",
       "    0% {\n",
       "      border-color: transparent;\n",
       "      border-bottom-color: var(--fill-color);\n",
       "      border-left-color: var(--fill-color);\n",
       "    }\n",
       "    20% {\n",
       "      border-color: transparent;\n",
       "      border-left-color: var(--fill-color);\n",
       "      border-top-color: var(--fill-color);\n",
       "    }\n",
       "    30% {\n",
       "      border-color: transparent;\n",
       "      border-left-color: var(--fill-color);\n",
       "      border-top-color: var(--fill-color);\n",
       "      border-right-color: var(--fill-color);\n",
       "    }\n",
       "    40% {\n",
       "      border-color: transparent;\n",
       "      border-right-color: var(--fill-color);\n",
       "      border-top-color: var(--fill-color);\n",
       "    }\n",
       "    60% {\n",
       "      border-color: transparent;\n",
       "      border-right-color: var(--fill-color);\n",
       "    }\n",
       "    80% {\n",
       "      border-color: transparent;\n",
       "      border-right-color: var(--fill-color);\n",
       "      border-bottom-color: var(--fill-color);\n",
       "    }\n",
       "    90% {\n",
       "      border-color: transparent;\n",
       "      border-bottom-color: var(--fill-color);\n",
       "    }\n",
       "  }\n",
       "</style>\n",
       "\n",
       "  <script>\n",
       "    async function quickchart(key) {\n",
       "      const quickchartButtonEl =\n",
       "        document.querySelector('#' + key + ' button');\n",
       "      quickchartButtonEl.disabled = true;  // To prevent multiple clicks.\n",
       "      quickchartButtonEl.classList.add('colab-df-spinner');\n",
       "      try {\n",
       "        const charts = await google.colab.kernel.invokeFunction(\n",
       "            'suggestCharts', [key], {});\n",
       "      } catch (error) {\n",
       "        console.error('Error during call to suggestCharts:', error);\n",
       "      }\n",
       "      quickchartButtonEl.classList.remove('colab-df-spinner');\n",
       "      quickchartButtonEl.classList.add('colab-df-quickchart-complete');\n",
       "    }\n",
       "    (() => {\n",
       "      let quickchartButtonEl =\n",
       "        document.querySelector('#df-9faca4a0-c55e-4f82-920f-ce67e1cb11c8 button');\n",
       "      quickchartButtonEl.style.display =\n",
       "        google.colab.kernel.accessAllowed ? 'block' : 'none';\n",
       "    })();\n",
       "  </script>\n",
       "</div>\n",
       "    </div>\n",
       "  </div>\n"
      ],
      "text/plain": [
       "   features  mse_test  mse_train       model\n",
       "0         8  0.753874   0.665353  model_full\n",
       "1         7  0.717169   0.675270     model_1\n",
       "2         6  0.883720   0.658149     model_2\n",
       "3         4  2.225796   2.482593     model_3\n",
       "4         5  0.958194   0.637324     model_4"
      ]
     },
     "execution_count": 241,
     "metadata": {},
     "output_type": "execute_result"
    }
   ],
   "source": [
    "data = {\n",
    "    \"features\": [features_model_full, features_model_1, features_model_2, features_model_3, features_model_4],\n",
    "    \"mse_test\": [model_full_mse_test, model_1_mse_test, model_2_mse_test, model_3_mse_test, model_4_mse_test],\n",
    "    \"mse_train\": [model_full_mse_train, model_1_mse_train, model_2_mse_train, model_3_mse_train, model_4_mse_train],\n",
    "    \"model\": [\"model_full\", \"model_1\", \"model_2\", \"model_3\", \"model_4\"]\n",
    "}\n",
    "\n",
    "metric_df = pd.DataFrame(data)\n",
    "metric_df"
   ]
  },
  {
   "cell_type": "code",
   "execution_count": 242,
   "metadata": {
    "colab": {
     "base_uri": "https://localhost:8080/",
     "height": 362
    },
    "id": "3yUxNhfDpqTM",
    "outputId": "2102f11d-08cb-4862-c28c-b55e8961b537"
   },
   "outputs": [
    {
     "data": {
      "text/html": [
       "\n",
       "  <div id=\"df-8d693623-867c-46a8-82a6-9dd773f9eec4\" class=\"colab-df-container\">\n",
       "    <div>\n",
       "<style scoped>\n",
       "    .dataframe tbody tr th:only-of-type {\n",
       "        vertical-align: middle;\n",
       "    }\n",
       "\n",
       "    .dataframe tbody tr th {\n",
       "        vertical-align: top;\n",
       "    }\n",
       "\n",
       "    .dataframe thead th {\n",
       "        text-align: right;\n",
       "    }\n",
       "</style>\n",
       "<table border=\"1\" class=\"dataframe\">\n",
       "  <thead>\n",
       "    <tr style=\"text-align: right;\">\n",
       "      <th></th>\n",
       "      <th>features</th>\n",
       "      <th>model</th>\n",
       "      <th>mse_type</th>\n",
       "      <th>mse_value</th>\n",
       "    </tr>\n",
       "  </thead>\n",
       "  <tbody>\n",
       "    <tr>\n",
       "      <th>0</th>\n",
       "      <td>8</td>\n",
       "      <td>model_full</td>\n",
       "      <td>mse_test</td>\n",
       "      <td>0.753874</td>\n",
       "    </tr>\n",
       "    <tr>\n",
       "      <th>1</th>\n",
       "      <td>7</td>\n",
       "      <td>model_1</td>\n",
       "      <td>mse_test</td>\n",
       "      <td>0.717169</td>\n",
       "    </tr>\n",
       "    <tr>\n",
       "      <th>2</th>\n",
       "      <td>6</td>\n",
       "      <td>model_2</td>\n",
       "      <td>mse_test</td>\n",
       "      <td>0.883720</td>\n",
       "    </tr>\n",
       "    <tr>\n",
       "      <th>3</th>\n",
       "      <td>4</td>\n",
       "      <td>model_3</td>\n",
       "      <td>mse_test</td>\n",
       "      <td>2.225796</td>\n",
       "    </tr>\n",
       "    <tr>\n",
       "      <th>4</th>\n",
       "      <td>5</td>\n",
       "      <td>model_4</td>\n",
       "      <td>mse_test</td>\n",
       "      <td>0.958194</td>\n",
       "    </tr>\n",
       "    <tr>\n",
       "      <th>5</th>\n",
       "      <td>8</td>\n",
       "      <td>model_full</td>\n",
       "      <td>mse_train</td>\n",
       "      <td>0.665353</td>\n",
       "    </tr>\n",
       "    <tr>\n",
       "      <th>6</th>\n",
       "      <td>7</td>\n",
       "      <td>model_1</td>\n",
       "      <td>mse_train</td>\n",
       "      <td>0.675270</td>\n",
       "    </tr>\n",
       "    <tr>\n",
       "      <th>7</th>\n",
       "      <td>6</td>\n",
       "      <td>model_2</td>\n",
       "      <td>mse_train</td>\n",
       "      <td>0.658149</td>\n",
       "    </tr>\n",
       "    <tr>\n",
       "      <th>8</th>\n",
       "      <td>4</td>\n",
       "      <td>model_3</td>\n",
       "      <td>mse_train</td>\n",
       "      <td>2.482593</td>\n",
       "    </tr>\n",
       "    <tr>\n",
       "      <th>9</th>\n",
       "      <td>5</td>\n",
       "      <td>model_4</td>\n",
       "      <td>mse_train</td>\n",
       "      <td>0.637324</td>\n",
       "    </tr>\n",
       "  </tbody>\n",
       "</table>\n",
       "</div>\n",
       "    <div class=\"colab-df-buttons\">\n",
       "\n",
       "  <div class=\"colab-df-container\">\n",
       "    <button class=\"colab-df-convert\" onclick=\"convertToInteractive('df-8d693623-867c-46a8-82a6-9dd773f9eec4')\"\n",
       "            title=\"Convert this dataframe to an interactive table.\"\n",
       "            style=\"display:none;\">\n",
       "\n",
       "  <svg xmlns=\"http://www.w3.org/2000/svg\" height=\"24px\" viewBox=\"0 -960 960 960\">\n",
       "    <path d=\"M120-120v-720h720v720H120Zm60-500h600v-160H180v160Zm220 220h160v-160H400v160Zm0 220h160v-160H400v160ZM180-400h160v-160H180v160Zm440 0h160v-160H620v160ZM180-180h160v-160H180v160Zm440 0h160v-160H620v160Z\"/>\n",
       "  </svg>\n",
       "    </button>\n",
       "\n",
       "  <style>\n",
       "    .colab-df-container {\n",
       "      display:flex;\n",
       "      gap: 12px;\n",
       "    }\n",
       "\n",
       "    .colab-df-convert {\n",
       "      background-color: #E8F0FE;\n",
       "      border: none;\n",
       "      border-radius: 50%;\n",
       "      cursor: pointer;\n",
       "      display: none;\n",
       "      fill: #1967D2;\n",
       "      height: 32px;\n",
       "      padding: 0 0 0 0;\n",
       "      width: 32px;\n",
       "    }\n",
       "\n",
       "    .colab-df-convert:hover {\n",
       "      background-color: #E2EBFA;\n",
       "      box-shadow: 0px 1px 2px rgba(60, 64, 67, 0.3), 0px 1px 3px 1px rgba(60, 64, 67, 0.15);\n",
       "      fill: #174EA6;\n",
       "    }\n",
       "\n",
       "    .colab-df-buttons div {\n",
       "      margin-bottom: 4px;\n",
       "    }\n",
       "\n",
       "    [theme=dark] .colab-df-convert {\n",
       "      background-color: #3B4455;\n",
       "      fill: #D2E3FC;\n",
       "    }\n",
       "\n",
       "    [theme=dark] .colab-df-convert:hover {\n",
       "      background-color: #434B5C;\n",
       "      box-shadow: 0px 1px 3px 1px rgba(0, 0, 0, 0.15);\n",
       "      filter: drop-shadow(0px 1px 2px rgba(0, 0, 0, 0.3));\n",
       "      fill: #FFFFFF;\n",
       "    }\n",
       "  </style>\n",
       "\n",
       "    <script>\n",
       "      const buttonEl =\n",
       "        document.querySelector('#df-8d693623-867c-46a8-82a6-9dd773f9eec4 button.colab-df-convert');\n",
       "      buttonEl.style.display =\n",
       "        google.colab.kernel.accessAllowed ? 'block' : 'none';\n",
       "\n",
       "      async function convertToInteractive(key) {\n",
       "        const element = document.querySelector('#df-8d693623-867c-46a8-82a6-9dd773f9eec4');\n",
       "        const dataTable =\n",
       "          await google.colab.kernel.invokeFunction('convertToInteractive',\n",
       "                                                    [key], {});\n",
       "        if (!dataTable) return;\n",
       "\n",
       "        const docLinkHtml = 'Like what you see? Visit the ' +\n",
       "          '<a target=\"_blank\" href=https://colab.research.google.com/notebooks/data_table.ipynb>data table notebook</a>'\n",
       "          + ' to learn more about interactive tables.';\n",
       "        element.innerHTML = '';\n",
       "        dataTable['output_type'] = 'display_data';\n",
       "        await google.colab.output.renderOutput(dataTable, element);\n",
       "        const docLink = document.createElement('div');\n",
       "        docLink.innerHTML = docLinkHtml;\n",
       "        element.appendChild(docLink);\n",
       "      }\n",
       "    </script>\n",
       "  </div>\n",
       "\n",
       "\n",
       "<div id=\"df-72804743-e7a6-4068-9dae-625f02acc396\">\n",
       "  <button class=\"colab-df-quickchart\" onclick=\"quickchart('df-72804743-e7a6-4068-9dae-625f02acc396')\"\n",
       "            title=\"Suggest charts.\"\n",
       "            style=\"display:none;\">\n",
       "\n",
       "<svg xmlns=\"http://www.w3.org/2000/svg\" height=\"24px\"viewBox=\"0 0 24 24\"\n",
       "     width=\"24px\">\n",
       "    <g>\n",
       "        <path d=\"M19 3H5c-1.1 0-2 .9-2 2v14c0 1.1.9 2 2 2h14c1.1 0 2-.9 2-2V5c0-1.1-.9-2-2-2zM9 17H7v-7h2v7zm4 0h-2V7h2v10zm4 0h-2v-4h2v4z\"/>\n",
       "    </g>\n",
       "</svg>\n",
       "  </button>\n",
       "\n",
       "<style>\n",
       "  .colab-df-quickchart {\n",
       "      --bg-color: #E8F0FE;\n",
       "      --fill-color: #1967D2;\n",
       "      --hover-bg-color: #E2EBFA;\n",
       "      --hover-fill-color: #174EA6;\n",
       "      --disabled-fill-color: #AAA;\n",
       "      --disabled-bg-color: #DDD;\n",
       "  }\n",
       "\n",
       "  [theme=dark] .colab-df-quickchart {\n",
       "      --bg-color: #3B4455;\n",
       "      --fill-color: #D2E3FC;\n",
       "      --hover-bg-color: #434B5C;\n",
       "      --hover-fill-color: #FFFFFF;\n",
       "      --disabled-bg-color: #3B4455;\n",
       "      --disabled-fill-color: #666;\n",
       "  }\n",
       "\n",
       "  .colab-df-quickchart {\n",
       "    background-color: var(--bg-color);\n",
       "    border: none;\n",
       "    border-radius: 50%;\n",
       "    cursor: pointer;\n",
       "    display: none;\n",
       "    fill: var(--fill-color);\n",
       "    height: 32px;\n",
       "    padding: 0;\n",
       "    width: 32px;\n",
       "  }\n",
       "\n",
       "  .colab-df-quickchart:hover {\n",
       "    background-color: var(--hover-bg-color);\n",
       "    box-shadow: 0 1px 2px rgba(60, 64, 67, 0.3), 0 1px 3px 1px rgba(60, 64, 67, 0.15);\n",
       "    fill: var(--button-hover-fill-color);\n",
       "  }\n",
       "\n",
       "  .colab-df-quickchart-complete:disabled,\n",
       "  .colab-df-quickchart-complete:disabled:hover {\n",
       "    background-color: var(--disabled-bg-color);\n",
       "    fill: var(--disabled-fill-color);\n",
       "    box-shadow: none;\n",
       "  }\n",
       "\n",
       "  .colab-df-spinner {\n",
       "    border: 2px solid var(--fill-color);\n",
       "    border-color: transparent;\n",
       "    border-bottom-color: var(--fill-color);\n",
       "    animation:\n",
       "      spin 1s steps(1) infinite;\n",
       "  }\n",
       "\n",
       "  @keyframes spin {\n",
       "    0% {\n",
       "      border-color: transparent;\n",
       "      border-bottom-color: var(--fill-color);\n",
       "      border-left-color: var(--fill-color);\n",
       "    }\n",
       "    20% {\n",
       "      border-color: transparent;\n",
       "      border-left-color: var(--fill-color);\n",
       "      border-top-color: var(--fill-color);\n",
       "    }\n",
       "    30% {\n",
       "      border-color: transparent;\n",
       "      border-left-color: var(--fill-color);\n",
       "      border-top-color: var(--fill-color);\n",
       "      border-right-color: var(--fill-color);\n",
       "    }\n",
       "    40% {\n",
       "      border-color: transparent;\n",
       "      border-right-color: var(--fill-color);\n",
       "      border-top-color: var(--fill-color);\n",
       "    }\n",
       "    60% {\n",
       "      border-color: transparent;\n",
       "      border-right-color: var(--fill-color);\n",
       "    }\n",
       "    80% {\n",
       "      border-color: transparent;\n",
       "      border-right-color: var(--fill-color);\n",
       "      border-bottom-color: var(--fill-color);\n",
       "    }\n",
       "    90% {\n",
       "      border-color: transparent;\n",
       "      border-bottom-color: var(--fill-color);\n",
       "    }\n",
       "  }\n",
       "</style>\n",
       "\n",
       "  <script>\n",
       "    async function quickchart(key) {\n",
       "      const quickchartButtonEl =\n",
       "        document.querySelector('#' + key + ' button');\n",
       "      quickchartButtonEl.disabled = true;  // To prevent multiple clicks.\n",
       "      quickchartButtonEl.classList.add('colab-df-spinner');\n",
       "      try {\n",
       "        const charts = await google.colab.kernel.invokeFunction(\n",
       "            'suggestCharts', [key], {});\n",
       "      } catch (error) {\n",
       "        console.error('Error during call to suggestCharts:', error);\n",
       "      }\n",
       "      quickchartButtonEl.classList.remove('colab-df-spinner');\n",
       "      quickchartButtonEl.classList.add('colab-df-quickchart-complete');\n",
       "    }\n",
       "    (() => {\n",
       "      let quickchartButtonEl =\n",
       "        document.querySelector('#df-72804743-e7a6-4068-9dae-625f02acc396 button');\n",
       "      quickchartButtonEl.style.display =\n",
       "        google.colab.kernel.accessAllowed ? 'block' : 'none';\n",
       "    })();\n",
       "  </script>\n",
       "</div>\n",
       "    </div>\n",
       "  </div>\n"
      ],
      "text/plain": [
       "   features       model   mse_type  mse_value\n",
       "0         8  model_full   mse_test   0.753874\n",
       "1         7     model_1   mse_test   0.717169\n",
       "2         6     model_2   mse_test   0.883720\n",
       "3         4     model_3   mse_test   2.225796\n",
       "4         5     model_4   mse_test   0.958194\n",
       "5         8  model_full  mse_train   0.665353\n",
       "6         7     model_1  mse_train   0.675270\n",
       "7         6     model_2  mse_train   0.658149\n",
       "8         4     model_3  mse_train   2.482593\n",
       "9         5     model_4  mse_train   0.637324"
      ]
     },
     "execution_count": 242,
     "metadata": {},
     "output_type": "execute_result"
    }
   ],
   "source": [
    "# Create a combined DataFrame with features, mse_train, mse_test, and model\n",
    "combined_df = metric_df.melt(id_vars=['features', 'model'], var_name='mse_type', value_name='mse_value')\n",
    "combined_df"
   ]
  },
  {
   "cell_type": "code",
   "execution_count": 244,
   "metadata": {
    "colab": {
     "base_uri": "https://localhost:8080/",
     "height": 515
    },
    "id": "Kb8wHRUYo5Ph",
    "outputId": "9128aac3-15ea-41fa-9253-bb4ff4266fb1"
   },
   "outputs": [
    {
     "data": {
      "image/png": "[encoded data removed]",
      "text/plain": [
       "<Figure size 640x480 with 1 Axes>"
      ]
     },
     "metadata": {
      "image/png": {
       "height": 480,
       "width": 640
      }
     },
     "output_type": "display_data"
    },
    {
     "name": "stdout",
     "output_type": "stream",
     "text": [
      "\n"
     ]
    }
   ],
   "source": [
    "# Create the scatter plot\n",
    "scatter_plot = (ggplot(combined_df, aes(x='features', y='mse_value', color='model'))\n",
    "+ geom_point()\n",
    "+ labs(x='Features', y='MSE')\n",
    "+ theme(axis_text_x=element_text(angle=45, hjust=1))\n",
    "+ scale_y_continuous(limits=(0, 3), breaks=[0, 0.25, 0.5, 0.75, 1, 1.25, 1.5, 1.75, 2, 2.25, 2.5, 2.75, 3])\n",
    "+ scale_color_manual(values={'model_full': 'red', 'model_1': 'blue', 'model_2': 'green', 'model_3': 'orange', 'model_4': 'purple'})\n",
    "+ guides(color=guide_legend(title=\"Model\"))\n",
    ")\n",
    "\n",
    "print(scatter_plot)"
   ]
  },
  {
   "cell_type": "markdown",
   "metadata": {
    "id": "8YOEGg4ssQOc"
   },
   "source": [
    "# Conclusion"
   ]
  },
  {
   "cell_type": "markdown",
   "metadata": {
    "id": "fHIaQqJ7sVn2"
   },
   "source": [
    "From the plot it is clear that model 1 was the best as it had the least difference in the training and the test error as well as the least error overall comparatively, at least in terms of comparing them based on Mean Squared Error. Other metrics should be used for comparing models."
   ]
  }
 ],
 "metadata": {
  "colab": {
   "provenance": []
  },
  "kernelspec": {
   "display_name": "Python 3 (ipykernel)",
   "language": "python",
   "name": "python3"
  },
  "language_info": {
   "codemirror_mode": {
    "name": "ipython",
    "version": 3
   },
   "file_extension": ".py",
   "mimetype": "text/x-python",
   "name": "python",
   "nbconvert_exporter": "python",
   "pygments_lexer": "ipython3",
   "version": "3.11.4"
  }
 },
 "nbformat": 4,
 "nbformat_minor": 1
}
