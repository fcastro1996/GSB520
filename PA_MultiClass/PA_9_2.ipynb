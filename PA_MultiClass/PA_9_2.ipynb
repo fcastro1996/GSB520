{
 "cells": [
  {
   "cell_type": "raw",
   "metadata": {},
   "source": [
    "---\n",
    "format:\n",
    "  html:\n",
    "    page-layout: full\n",
    "    code fold: false\n",
    "    toc: true\n",
    "    toc_float: true\n",
    "    toc-title: Table Of Contents\n",
    "    toc-location: left\n",
    "    theme: cosmo\n",
    "    self-contained: true\n",
    "---"
   ]
  },
  {
   "cell_type": "markdown",
   "metadata": {
    "id": "P_N9XP2-04VH"
   },
   "source": [
    "\n",
    "Our dataset consists of clinical data from patients who entered the hospital complaining of chest pain (\"angina\") during exercise.  The information collected includes:\n",
    "\n",
    "* `age` : Age of the patient\n",
    "\n",
    "* `sex` : Sex of the patient\n",
    "\n",
    "* `cp` : Chest Pain type\n",
    "\n",
    "    + Value 0: asymptomatic\n",
    "    + Value 1: typical angina\n",
    "    + Value 2: atypical angina\n",
    "    + Value 3: non-anginal pain\n",
    "   \n",
    "    \n",
    "* `trtbps` : resting blood pressure (in mm Hg)\n",
    "\n",
    "* `chol` : cholesterol in mg/dl fetched via BMI sensor\n",
    "\n",
    "* `restecg` : resting electrocardiographic results\n",
    "\n",
    "    + Value 0: normal\n",
    "    + Value 1: having ST-T wave abnormality (T wave inversions and/or ST elevation or depression of > 0.05 mV)\n",
    "    + Value 2: showing probable or definite left ventricular hypertrophy by Estes' criteria\n",
    "\n",
    "* `thalach` : maximum heart rate achieved during exercise\n",
    "\n",
    "* `output` : the doctor's diagnosis of whether the patient is at risk for a heart attack\n",
    "    + 0 = not at risk of heart attack\n",
    "    + 1 = at risk of heart attack"
   ]
  },
  {
   "cell_type": "code",
   "execution_count": 80,
   "metadata": {
    "id": "Q6rGMxqNV84B"
   },
   "outputs": [],
   "source": [
    "import pandas as pd\n",
    "import numpy as np\n",
    "from plotnine import *\n",
    "\n",
    "from sklearn.pipeline import Pipeline\n",
    "from sklearn.compose import make_column_selector, ColumnTransformer\n",
    "from sklearn.preprocessing import StandardScaler, OneHotEncoder\n",
    "from sklearn.model_selection import cross_val_score, GridSearchCV, StratifiedKFold\n",
    "from sklearn.metrics import accuracy_score, confusion_matrix, f1_score\n",
    "from sklearn.neighbors import KNeighborsClassifier\n",
    "from sklearn.tree import DecisionTreeClassifier\n",
    "from sklearn.linear_model import LogisticRegression\n",
    "\n",
    "import warnings\n",
    "warnings.filterwarnings('ignore')"
   ]
  },
  {
   "cell_type": "code",
   "execution_count": 81,
   "metadata": {
    "id": "ghXbwhv600-S"
   },
   "outputs": [],
   "source": [
    "ha = pd.read_csv(\"https://www.dropbox.com/s/aohbr6yb9ifmc8w/heart_attack.csv?dl=1\")"
   ]
  },
  {
   "cell_type": "code",
   "execution_count": 82,
   "metadata": {
    "colab": {
     "base_uri": "https://localhost:8080/",
     "height": 206
    },
    "id": "WJsMBCZh1glq",
    "outputId": "1bd95aa9-932d-4953-8f2a-25516bf17f2c"
   },
   "outputs": [
    {
     "data": {
      "text/html": [
       "<div>\n",
       "<style scoped>\n",
       "    .dataframe tbody tr th:only-of-type {\n",
       "        vertical-align: middle;\n",
       "    }\n",
       "\n",
       "    .dataframe tbody tr th {\n",
       "        vertical-align: top;\n",
       "    }\n",
       "\n",
       "    .dataframe thead th {\n",
       "        text-align: right;\n",
       "    }\n",
       "</style>\n",
       "<table border=\"1\" class=\"dataframe\">\n",
       "  <thead>\n",
       "    <tr style=\"text-align: right;\">\n",
       "      <th></th>\n",
       "      <th>age</th>\n",
       "      <th>sex</th>\n",
       "      <th>cp</th>\n",
       "      <th>trtbps</th>\n",
       "      <th>chol</th>\n",
       "      <th>restecg</th>\n",
       "      <th>thalach</th>\n",
       "      <th>output</th>\n",
       "    </tr>\n",
       "  </thead>\n",
       "  <tbody>\n",
       "    <tr>\n",
       "      <th>0</th>\n",
       "      <td>63</td>\n",
       "      <td>1</td>\n",
       "      <td>3</td>\n",
       "      <td>145</td>\n",
       "      <td>233</td>\n",
       "      <td>0</td>\n",
       "      <td>150</td>\n",
       "      <td>1</td>\n",
       "    </tr>\n",
       "    <tr>\n",
       "      <th>1</th>\n",
       "      <td>37</td>\n",
       "      <td>1</td>\n",
       "      <td>2</td>\n",
       "      <td>130</td>\n",
       "      <td>250</td>\n",
       "      <td>1</td>\n",
       "      <td>187</td>\n",
       "      <td>1</td>\n",
       "    </tr>\n",
       "    <tr>\n",
       "      <th>2</th>\n",
       "      <td>56</td>\n",
       "      <td>1</td>\n",
       "      <td>1</td>\n",
       "      <td>120</td>\n",
       "      <td>236</td>\n",
       "      <td>1</td>\n",
       "      <td>178</td>\n",
       "      <td>1</td>\n",
       "    </tr>\n",
       "    <tr>\n",
       "      <th>3</th>\n",
       "      <td>57</td>\n",
       "      <td>0</td>\n",
       "      <td>0</td>\n",
       "      <td>120</td>\n",
       "      <td>354</td>\n",
       "      <td>1</td>\n",
       "      <td>163</td>\n",
       "      <td>1</td>\n",
       "    </tr>\n",
       "    <tr>\n",
       "      <th>4</th>\n",
       "      <td>57</td>\n",
       "      <td>1</td>\n",
       "      <td>0</td>\n",
       "      <td>140</td>\n",
       "      <td>192</td>\n",
       "      <td>1</td>\n",
       "      <td>148</td>\n",
       "      <td>1</td>\n",
       "    </tr>\n",
       "  </tbody>\n",
       "</table>\n",
       "</div>"
      ],
      "text/plain": [
       "   age  sex  cp  trtbps  chol  restecg  thalach  output\n",
       "0   63    1   3     145   233        0      150       1\n",
       "1   37    1   2     130   250        1      187       1\n",
       "2   56    1   1     120   236        1      178       1\n",
       "3   57    0   0     120   354        1      163       1\n",
       "4   57    1   0     140   192        1      148       1"
      ]
     },
     "execution_count": 82,
     "metadata": {},
     "output_type": "execute_result"
    }
   ],
   "source": [
    "ha.head()"
   ]
  },
  {
   "cell_type": "markdown",
   "metadata": {
    "id": "OCX180v41bhe"
   },
   "source": [
    "## Q1: Natural Multiclass Models\n",
    "\n",
    "Fit a multiclass KNN, Decision Tree, and LDA for the heart disease data; this time predicting the type of chest pain (categories 0 - 3) that a patient experiences.  For the decision tree, plot the fitted tree, and interpret the first couple splits.\n"
   ]
  },
  {
   "cell_type": "markdown",
   "metadata": {
    "id": "EANTRMQOVkvJ"
   },
   "source": [
    "### KNN"
   ]
  },
  {
   "cell_type": "code",
   "execution_count": 83,
   "metadata": {
    "id": "B8Mt7OXBWMg0"
   },
   "outputs": [],
   "source": [
    "# Converting y into categorical\n",
    "ha['cp'] = ha['cp'].astype('category')\n",
    "ha['sex'] = ha['sex'].astype('category')\n",
    "ha['restecg'] = ha['restecg'].astype('category')\n",
    "ha['output'] = ha['output'].astype('category')\n",
    "\n",
    "#creating the target and the predictor variables\n",
    "X= ha.drop(['cp'], axis=1)\n",
    "y = ha['cp']"
   ]
  },
  {
   "cell_type": "code",
   "execution_count": 84,
   "metadata": {
    "id": "5BPt5Q7vWP0N"
   },
   "outputs": [],
   "source": [
    "# Define the cross-validation strategy\n",
    "cv = StratifiedKFold(n_splits=10, shuffle=True, random_state=42)"
   ]
  },
  {
   "cell_type": "code",
   "execution_count": 85,
   "metadata": {
    "id": "UZNO0uIOWioL"
   },
   "outputs": [],
   "source": [
    "#Preprocessor as a column transformer that dumifies, standardizes.\n",
    "ct = ColumnTransformer(\n",
    "  [\n",
    "    (\"dummify\",\n",
    "    OneHotEncoder(sparse_output = False, handle_unknown='ignore'),\n",
    "    make_column_selector(dtype_include=object)),\n",
    "    (\"standardize\",\n",
    "    StandardScaler(),\n",
    "    make_column_selector(dtype_include=np.number))\n",
    "  ],\n",
    "  remainder = \"passthrough\"\n",
    ")"
   ]
  },
  {
   "cell_type": "code",
   "execution_count": 86,
   "metadata": {
    "id": "XBXP9c9oVndO"
   },
   "outputs": [],
   "source": [
    "#Model Specification\n",
    "knn = KNeighborsClassifier()\n",
    "\n",
    "#pipeline Creation\n",
    "model_1_pipeline = Pipeline(\n",
    "    [(\"preprocessing\", ct),\n",
    "    (\"knn_classification\", knn)]\n",
    "  )"
   ]
  },
  {
   "cell_type": "code",
   "execution_count": 87,
   "metadata": {
    "id": "7liLuVatWmM_"
   },
   "outputs": [],
   "source": [
    "#tuning using grid Search\n",
    "params = {'knn_classification__n_neighbors': [1, 3, 5, 10, 50]}\n",
    "\n",
    "gscv = GridSearchCV(model_1_pipeline, params, cv = cv, scoring='accuracy')\n",
    "\n",
    "gscv_fitted = gscv.fit(X, y)"
   ]
  },
  {
   "cell_type": "code",
   "execution_count": 88,
   "metadata": {
    "colab": {
     "base_uri": "https://localhost:8080/",
     "height": 206
    },
    "id": "x30RjQcDWn8L",
    "outputId": "4771d712-f6d2-4d8d-b940-d205fbdbdb7e"
   },
   "outputs": [
    {
     "data": {
      "text/html": [
       "<div>\n",
       "<style scoped>\n",
       "    .dataframe tbody tr th:only-of-type {\n",
       "        vertical-align: middle;\n",
       "    }\n",
       "\n",
       "    .dataframe tbody tr th {\n",
       "        vertical-align: top;\n",
       "    }\n",
       "\n",
       "    .dataframe thead th {\n",
       "        text-align: right;\n",
       "    }\n",
       "</style>\n",
       "<table border=\"1\" class=\"dataframe\">\n",
       "  <thead>\n",
       "    <tr style=\"text-align: right;\">\n",
       "      <th></th>\n",
       "      <th>K</th>\n",
       "      <th>accuracy</th>\n",
       "    </tr>\n",
       "  </thead>\n",
       "  <tbody>\n",
       "    <tr>\n",
       "      <th>3</th>\n",
       "      <td>10</td>\n",
       "      <td>0.538492</td>\n",
       "    </tr>\n",
       "    <tr>\n",
       "      <th>4</th>\n",
       "      <td>50</td>\n",
       "      <td>0.535185</td>\n",
       "    </tr>\n",
       "    <tr>\n",
       "      <th>2</th>\n",
       "      <td>5</td>\n",
       "      <td>0.509127</td>\n",
       "    </tr>\n",
       "    <tr>\n",
       "      <th>1</th>\n",
       "      <td>3</td>\n",
       "      <td>0.479630</td>\n",
       "    </tr>\n",
       "    <tr>\n",
       "      <th>0</th>\n",
       "      <td>1</td>\n",
       "      <td>0.443386</td>\n",
       "    </tr>\n",
       "  </tbody>\n",
       "</table>\n",
       "</div>"
      ],
      "text/plain": [
       "    K  accuracy\n",
       "3  10  0.538492\n",
       "4  50  0.535185\n",
       "2   5  0.509127\n",
       "1   3  0.479630\n",
       "0   1  0.443386"
      ]
     },
     "execution_count": 88,
     "metadata": {},
     "output_type": "execute_result"
    }
   ],
   "source": [
    "#getting the scores from the results\n",
    "mean_test_scores = gscv_fitted.cv_results_['mean_test_score']\n",
    "\n",
    "#getting the K's from the results corresponding to the\n",
    "ks = gscv_fitted.cv_results_['param_knn_classification__n_neighbors']\n",
    "\n",
    "# Creating a DataFrame with best parameterss and scores\n",
    "model_scores = pd.DataFrame(data = {\"K\": ks, \"accuracy\": mean_test_scores}).sort_values(by='accuracy', ascending=False)\n",
    "model_scores.head()"
   ]
  },
  {
   "cell_type": "markdown",
   "metadata": {
    "id": "0ewbZxVIZAuS"
   },
   "source": [
    "### Fitting best KNN"
   ]
  },
  {
   "cell_type": "code",
   "execution_count": 89,
   "metadata": {
    "colab": {
     "base_uri": "https://localhost:8080/",
     "height": 279
    },
    "id": "gSrGnHIWWzUg",
    "outputId": "4e826182-430c-42cc-be45-b9cacd953a1e"
   },
   "outputs": [
    {
     "name": "stdout",
     "output_type": "stream",
     "text": [
      "Metrics for Model_1 :\n",
      "\n",
      "Mean Accuracy Score: 0.5384920634920635 \n",
      "\n",
      "Confusion Matrix for Model_1 : \n",
      "\n"
     ]
    },
    {
     "data": {
      "text/html": [
       "<div>\n",
       "<style scoped>\n",
       "    .dataframe tbody tr th:only-of-type {\n",
       "        vertical-align: middle;\n",
       "    }\n",
       "\n",
       "    .dataframe tbody tr th {\n",
       "        vertical-align: top;\n",
       "    }\n",
       "\n",
       "    .dataframe thead th {\n",
       "        text-align: right;\n",
       "    }\n",
       "</style>\n",
       "<table border=\"1\" class=\"dataframe\">\n",
       "  <thead>\n",
       "    <tr style=\"text-align: right;\">\n",
       "      <th></th>\n",
       "      <th>3</th>\n",
       "      <th>2</th>\n",
       "      <th>1</th>\n",
       "      <th>0</th>\n",
       "    </tr>\n",
       "  </thead>\n",
       "  <tbody>\n",
       "    <tr>\n",
       "      <th>3</th>\n",
       "      <td>109</td>\n",
       "      <td>5</td>\n",
       "      <td>13</td>\n",
       "      <td>1</td>\n",
       "    </tr>\n",
       "    <tr>\n",
       "      <th>2</th>\n",
       "      <td>11</td>\n",
       "      <td>13</td>\n",
       "      <td>19</td>\n",
       "      <td>1</td>\n",
       "    </tr>\n",
       "    <tr>\n",
       "      <th>1</th>\n",
       "      <td>33</td>\n",
       "      <td>6</td>\n",
       "      <td>42</td>\n",
       "      <td>0</td>\n",
       "    </tr>\n",
       "    <tr>\n",
       "      <th>0</th>\n",
       "      <td>11</td>\n",
       "      <td>2</td>\n",
       "      <td>7</td>\n",
       "      <td>0</td>\n",
       "    </tr>\n",
       "  </tbody>\n",
       "</table>\n",
       "</div>"
      ],
      "text/plain": [
       "     3   2   1  0\n",
       "3  109   5  13  1\n",
       "2   11  13  19  1\n",
       "1   33   6  42  0\n",
       "0   11   2   7  0"
      ]
     },
     "execution_count": 89,
     "metadata": {},
     "output_type": "execute_result"
    }
   ],
   "source": [
    "#Model Specification\n",
    "knn = KNeighborsClassifier(n_neighbors=10)\n",
    "\n",
    "#pipeline Creation\n",
    "model_1_pipeline = Pipeline(\n",
    "    [(\"preprocessing\", ct),\n",
    "    (\"knn_classification\", knn)]\n",
    "  )\n",
    "\n",
    "#fitting\n",
    "model_1 = model_1_pipeline.fit(X,y)\n",
    "\n",
    "#cross validated predictions\n",
    "model_1_pred = model_1.predict(X)\n",
    "\n",
    "# Metrics for Model 1\n",
    "print(\"Metrics for Model_1 :\\n\")\n",
    "\n",
    "# Accuracy calculation\n",
    "cv_scores = cross_val_score(model_1_pipeline, X, y, cv=cv, scoring='accuracy') # Perform cross-validation\n",
    "roc_auc_model_1 = np.mean(cv_scores)\n",
    "print(\"Mean Accuracy Score:\", roc_auc_model_1, \"\\n\")\n",
    "\n",
    "# Confusion matrix\n",
    "uni_classes = y.unique() #getting the unique classes in the Y variale\n",
    "conf_matrix_test = confusion_matrix(y, model_1_pred) # making the matrix\n",
    "class_names = uni_classes.tolist() # Putting the classes to a list\n",
    "conf_matrix_df = pd.DataFrame(conf_matrix_test, index=class_names, columns=class_names) # Display the confusion matrix with class labels\n",
    "print(\"Confusion Matrix for Model_1 : \\n\")\n",
    "conf_matrix_df"
   ]
  },
  {
   "cell_type": "markdown",
   "metadata": {
    "id": "5de2pMthZqEU"
   },
   "source": [
    "### Decision Tree"
   ]
  },
  {
   "cell_type": "code",
   "execution_count": 90,
   "metadata": {
    "id": "PP6otZHsZouV"
   },
   "outputs": [],
   "source": [
    "#Preproccessor\n",
    "ct_no_standardize = ColumnTransformer(\n",
    "    [(\"dummify\",\n",
    "         OneHotEncoder(sparse_output=False, handle_unknown='ignore'),\n",
    "         make_column_selector(dtype_include=object)),\n",
    "    ],\n",
    "    remainder=\"passthrough\"\n",
    "    )\n",
    "\n",
    "#Model Specification\n",
    "des = DecisionTreeClassifier()\n",
    "\n",
    "#pipeline Creation\n",
    "model_3_pipeline = Pipeline(\n",
    "    [(\"preprocessing\", ct_no_standardize),\n",
    "    (\"des_classification\", des)]\n",
    "  )"
   ]
  },
  {
   "cell_type": "code",
   "execution_count": 91,
   "metadata": {
    "id": "HFq1Aw4SaIiE"
   },
   "outputs": [],
   "source": [
    "#tuning using grid Search\n",
    "params = {'des_classification__max_depth': [1, 3, 6, 9, 12, 15]}\n",
    "\n",
    "gscv = GridSearchCV(model_3_pipeline, params, cv = cv, scoring='accuracy')\n",
    "\n",
    "gscv_fitted = gscv.fit(X, y)"
   ]
  },
  {
   "cell_type": "code",
   "execution_count": 92,
   "metadata": {
    "colab": {
     "base_uri": "https://localhost:8080/",
     "height": 206
    },
    "id": "E0GkJe2LaKM0",
    "outputId": "62d27ae4-86b2-4a64-d152-12ae8a28df46"
   },
   "outputs": [
    {
     "data": {
      "text/html": [
       "<div>\n",
       "<style scoped>\n",
       "    .dataframe tbody tr th:only-of-type {\n",
       "        vertical-align: middle;\n",
       "    }\n",
       "\n",
       "    .dataframe tbody tr th {\n",
       "        vertical-align: top;\n",
       "    }\n",
       "\n",
       "    .dataframe thead th {\n",
       "        text-align: right;\n",
       "    }\n",
       "</style>\n",
       "<table border=\"1\" class=\"dataframe\">\n",
       "  <thead>\n",
       "    <tr style=\"text-align: right;\">\n",
       "      <th></th>\n",
       "      <th>max_depth</th>\n",
       "      <th>accuracy</th>\n",
       "    </tr>\n",
       "  </thead>\n",
       "  <tbody>\n",
       "    <tr>\n",
       "      <th>0</th>\n",
       "      <td>1</td>\n",
       "      <td>0.574735</td>\n",
       "    </tr>\n",
       "    <tr>\n",
       "      <th>1</th>\n",
       "      <td>3</td>\n",
       "      <td>0.505159</td>\n",
       "    </tr>\n",
       "    <tr>\n",
       "      <th>2</th>\n",
       "      <td>6</td>\n",
       "      <td>0.494180</td>\n",
       "    </tr>\n",
       "    <tr>\n",
       "      <th>5</th>\n",
       "      <td>15</td>\n",
       "      <td>0.453968</td>\n",
       "    </tr>\n",
       "    <tr>\n",
       "      <th>3</th>\n",
       "      <td>9</td>\n",
       "      <td>0.439286</td>\n",
       "    </tr>\n",
       "  </tbody>\n",
       "</table>\n",
       "</div>"
      ],
      "text/plain": [
       "  max_depth  accuracy\n",
       "0         1  0.574735\n",
       "1         3  0.505159\n",
       "2         6  0.494180\n",
       "5        15  0.453968\n",
       "3         9  0.439286"
      ]
     },
     "execution_count": 92,
     "metadata": {},
     "output_type": "execute_result"
    }
   ],
   "source": [
    "#getting the scores from the results\n",
    "mean_test_scores = gscv_fitted.cv_results_['mean_test_score']\n",
    "\n",
    "#getting the K's from the results corresponding to the\n",
    "max_depth = gscv_fitted.cv_results_['param_des_classification__max_depth']\n",
    "\n",
    "# Creating a DataFrame with best parameterss and scores\n",
    "model_scores = pd.DataFrame(data = {\"max_depth\": max_depth, \"accuracy\": mean_test_scores}).sort_values(by='accuracy', ascending=False)\n",
    "model_scores.head()"
   ]
  },
  {
   "cell_type": "code",
   "execution_count": 93,
   "metadata": {
    "colab": {
     "base_uri": "https://localhost:8080/",
     "height": 279
    },
    "id": "ycd1fC0YaQz_",
    "outputId": "409cd8ac-8176-44fe-a587-1b1bd518a518"
   },
   "outputs": [
    {
     "name": "stdout",
     "output_type": "stream",
     "text": [
      "Metrics for Model_2 :\n",
      "\n",
      "Mean Accuracy Score: 0.5747354497354497 \n",
      "\n",
      "Confusion Matrix for Model_2 : \n",
      "\n"
     ]
    },
    {
     "data": {
      "text/html": [
       "<div>\n",
       "<style scoped>\n",
       "    .dataframe tbody tr th:only-of-type {\n",
       "        vertical-align: middle;\n",
       "    }\n",
       "\n",
       "    .dataframe tbody tr th {\n",
       "        vertical-align: top;\n",
       "    }\n",
       "\n",
       "    .dataframe thead th {\n",
       "        text-align: right;\n",
       "    }\n",
       "</style>\n",
       "<table border=\"1\" class=\"dataframe\">\n",
       "  <thead>\n",
       "    <tr style=\"text-align: right;\">\n",
       "      <th></th>\n",
       "      <th>3</th>\n",
       "      <th>2</th>\n",
       "      <th>1</th>\n",
       "      <th>0</th>\n",
       "    </tr>\n",
       "  </thead>\n",
       "  <tbody>\n",
       "    <tr>\n",
       "      <th>3</th>\n",
       "      <td>109</td>\n",
       "      <td>5</td>\n",
       "      <td>13</td>\n",
       "      <td>1</td>\n",
       "    </tr>\n",
       "    <tr>\n",
       "      <th>2</th>\n",
       "      <td>11</td>\n",
       "      <td>13</td>\n",
       "      <td>19</td>\n",
       "      <td>1</td>\n",
       "    </tr>\n",
       "    <tr>\n",
       "      <th>1</th>\n",
       "      <td>33</td>\n",
       "      <td>6</td>\n",
       "      <td>42</td>\n",
       "      <td>0</td>\n",
       "    </tr>\n",
       "    <tr>\n",
       "      <th>0</th>\n",
       "      <td>11</td>\n",
       "      <td>2</td>\n",
       "      <td>7</td>\n",
       "      <td>0</td>\n",
       "    </tr>\n",
       "  </tbody>\n",
       "</table>\n",
       "</div>"
      ],
      "text/plain": [
       "     3   2   1  0\n",
       "3  109   5  13  1\n",
       "2   11  13  19  1\n",
       "1   33   6  42  0\n",
       "0   11   2   7  0"
      ]
     },
     "execution_count": 93,
     "metadata": {},
     "output_type": "execute_result"
    }
   ],
   "source": [
    "#Model Specification\n",
    "des = DecisionTreeClassifier(max_depth=1)\n",
    "\n",
    "#pipeline Creation\n",
    "model_2_pipeline = Pipeline(\n",
    "    [(\"preprocessing\", ct_no_standardize),\n",
    "    (\"des_classification\", des)]\n",
    "  )\n",
    "\n",
    "#fitting\n",
    "model_2 = model_2_pipeline.fit(X,y)\n",
    "\n",
    "#cross validated predictions\n",
    "model_2_pred = model_2.predict(X)\n",
    "\n",
    "# Metrics for Model 2\n",
    "print(\"Metrics for Model_2 :\\n\")\n",
    "\n",
    "# Accuracy calculation\n",
    "cv_scores = cross_val_score(model_2_pipeline, X, y, cv=cv, scoring='accuracy') # Perform cross-validation\n",
    "roc_auc_model_1 = np.mean(cv_scores)\n",
    "print(\"Mean Accuracy Score:\", roc_auc_model_1, \"\\n\")\n",
    "\n",
    "# Confusion matrix\n",
    "uni_classes = y.unique() #getting the unique classes in the Y variale\n",
    "conf_matrix_test = confusion_matrix(y, model_2_pred) # making the matrix\n",
    "class_names = uni_classes.tolist() # Putting the classes to a listconf_matrix_df = pd.DataFrame(conf_matrix_test, index=class_names, columns=class_names) # Display the confusion matrix with class labels\n",
    "print(\"Confusion Matrix for Model_2 : \\n\")\n",
    "conf_matrix_df"
   ]
  },
  {
   "cell_type": "code",
   "execution_count": 94,
   "metadata": {
    "colab": {
     "base_uri": "https://localhost:8080/",
     "height": 277
    },
    "id": "8M8RLhPTaVLB",
    "outputId": "8153eaa0-5f90-439b-b818-a822b7e73900"
   },
   "outputs": [
    {
     "data": {
      "image/png": "[encoded data removed]",
      "text/plain": [
       "<IPython.core.display.Image object>"
      ]
     },
     "metadata": {},
     "output_type": "display_data"
    }
   ],
   "source": [
    "from sklearn.tree import export_graphviz\n",
    "from IPython.display import display, Image\n",
    "import graphviz\n",
    "\n",
    "# Perform cross-validated predictions\n",
    "y_pred_cv = model_2_pred\n",
    "\n",
    "# Get the indices of correctly classified instances\n",
    "correct_indices = (y == y_pred_cv)\n",
    "\n",
    "# Use the correct indices to fit the model on the entire dataset\n",
    "model_2_pipeline.fit(X[correct_indices], y[correct_indices])\n",
    "\n",
    "# Get the transformed feature names from the preprocessor\n",
    "transformed_feature_names = list(ct_no_standardize.get_feature_names_out(X.columns))\n",
    "\n",
    "# Convert class names to strings\n",
    "class_names_str = model_2_pipeline.named_steps['des_classification'].classes_.astype(str)\n",
    "\n",
    "# Export the decision tree to a DOT file\n",
    "dot_data = export_graphviz(model_2_pipeline.named_steps['des_classification'],\n",
    "                           feature_names=transformed_feature_names,\n",
    "                           class_names=class_names_str,  # Convert class names to strings\n",
    "                           filled=True,\n",
    "                           rounded=True,\n",
    "                           special_characters=True,\n",
    "                           out_file=None)\n",
    "\n",
    "# Render the decision tree directly\n",
    "graph = graphviz.Source(dot_data, format=\"png\")\n",
    "display(Image(graph.render(format='png', cleanup=True)))"
   ]
  },
  {
   "cell_type": "markdown",
   "metadata": {
    "id": "cqNduNgCWTjx"
   },
   "source": [
    "### Interpreting Decision Tree\n",
    "\n",
    "- When tuning the decision tree, the best max_depth to utilize is 1, therefore there is only one node at the top that is the best at splitting the data. This best predictor variable is output which is makes sense as this is whether a person is at risk vs not of a heart attack. We can interpret the tree to say that if someone is at risk of heart attack then they are more likely to be class 0 for chest pain and if they are not at risk then they are more likely to be class 2 for chest pain."
   ]
  },
  {
   "cell_type": "markdown",
   "metadata": {
    "id": "xAqZ1_pfibhI"
   },
   "source": [
    "### LDA"
   ]
  },
  {
   "cell_type": "code",
   "execution_count": 95,
   "metadata": {
    "colab": {
     "base_uri": "https://localhost:8080/",
     "height": 279
    },
    "id": "OQ3DNk8Miato",
    "outputId": "2c85ad59-0146-4e7e-90fd-b51fdbb2c5ef"
   },
   "outputs": [
    {
     "name": "stdout",
     "output_type": "stream",
     "text": [
      "Metrics for Model_3 :\n",
      "\n",
      "Mean Accuracy Score: 0.5711640211640211 \n",
      "\n",
      "Confusion Matrix for Model_3 : \n",
      "\n"
     ]
    },
    {
     "data": {
      "text/html": [
       "<div>\n",
       "<style scoped>\n",
       "    .dataframe tbody tr th:only-of-type {\n",
       "        vertical-align: middle;\n",
       "    }\n",
       "\n",
       "    .dataframe tbody tr th {\n",
       "        vertical-align: top;\n",
       "    }\n",
       "\n",
       "    .dataframe thead th {\n",
       "        text-align: right;\n",
       "    }\n",
       "</style>\n",
       "<table border=\"1\" class=\"dataframe\">\n",
       "  <thead>\n",
       "    <tr style=\"text-align: right;\">\n",
       "      <th></th>\n",
       "      <th>3</th>\n",
       "      <th>2</th>\n",
       "      <th>1</th>\n",
       "      <th>0</th>\n",
       "    </tr>\n",
       "  </thead>\n",
       "  <tbody>\n",
       "    <tr>\n",
       "      <th>3</th>\n",
       "      <td>98</td>\n",
       "      <td>2</td>\n",
       "      <td>27</td>\n",
       "      <td>1</td>\n",
       "    </tr>\n",
       "    <tr>\n",
       "      <th>2</th>\n",
       "      <td>8</td>\n",
       "      <td>2</td>\n",
       "      <td>32</td>\n",
       "      <td>2</td>\n",
       "    </tr>\n",
       "    <tr>\n",
       "      <th>1</th>\n",
       "      <td>21</td>\n",
       "      <td>5</td>\n",
       "      <td>55</td>\n",
       "      <td>0</td>\n",
       "    </tr>\n",
       "    <tr>\n",
       "      <th>0</th>\n",
       "      <td>7</td>\n",
       "      <td>0</td>\n",
       "      <td>11</td>\n",
       "      <td>2</td>\n",
       "    </tr>\n",
       "  </tbody>\n",
       "</table>\n",
       "</div>"
      ],
      "text/plain": [
       "    3  2   1  0\n",
       "3  98  2  27  1\n",
       "2   8  2  32  2\n",
       "1  21  5  55  0\n",
       "0   7  0  11  2"
      ]
     },
     "execution_count": 95,
     "metadata": {},
     "output_type": "execute_result"
    }
   ],
   "source": [
    "from sklearn.discriminant_analysis import LinearDiscriminantAnalysis\n",
    "# Model Specification\n",
    "lda = LinearDiscriminantAnalysis()\n",
    "\n",
    "#pipeline Creation\n",
    "model_3_pipeline = Pipeline(\n",
    "    [\n",
    "    (\"lda_classification\", lda)]\n",
    "  )\n",
    "\n",
    "model_3 = model_3_pipeline.fit(X,y)\n",
    "\n",
    "model_3_pred = model_3.predict(X)\n",
    "\n",
    "# Metrics for Model 3\n",
    "print(\"Metrics for Model_3 :\\n\")\n",
    "\n",
    "# Accuracy calculation\n",
    "cv_scores = cross_val_score(model_3_pipeline, X, y, cv=cv, scoring='accuracy') # Perform cross-validation\n",
    "roc_auc_model_1 = np.mean(cv_scores)\n",
    "print(\"Mean Accuracy Score:\", roc_auc_model_1, \"\\n\")\n",
    "\n",
    "# Confusion matrix\n",
    "uni_classes = y.unique() #getting the unique classes in the Y variale\n",
    "conf_matrix_test = confusion_matrix(y, model_3_pred) # making the matrix\n",
    "class_names = uni_classes.tolist() # Putting the classes to a list\n",
    "conf_matrix_df = pd.DataFrame(conf_matrix_test, index=class_names, columns=class_names) # Display the confusion matrix with class labels\n",
    "print(\"Confusion Matrix for Model_3 : \\n\")\n",
    "conf_matrix_df"
   ]
  },
  {
   "cell_type": "markdown",
   "metadata": {
    "id": "gYqpOtbO1EAJ"
   },
   "source": [
    "## Q2:  OvR\n",
    "\n",
    "Create a new column in the `ha` dataset called `cp_is_3`, which is equal to `1` if the `cp` variable is equal to `3` and `0` otherwise.\n",
    "\n",
    "Then, fit a Logistic Regression to predict this new target, and report the **F1 Score**.\n",
    "\n",
    "Repeat for the other three `cp` categories.  Which category was the OvR approach best at distinguishing?"
   ]
  },
  {
   "cell_type": "code",
   "execution_count": 96,
   "metadata": {
    "colab": {
     "base_uri": "https://localhost:8080/",
     "height": 206
    },
    "id": "THrjnRoV1siy",
    "outputId": "97184fd1-b6d5-4d60-a050-a4d0cf11c518"
   },
   "outputs": [
    {
     "data": {
      "text/html": [
       "<div>\n",
       "<style scoped>\n",
       "    .dataframe tbody tr th:only-of-type {\n",
       "        vertical-align: middle;\n",
       "    }\n",
       "\n",
       "    .dataframe tbody tr th {\n",
       "        vertical-align: top;\n",
       "    }\n",
       "\n",
       "    .dataframe thead th {\n",
       "        text-align: right;\n",
       "    }\n",
       "</style>\n",
       "<table border=\"1\" class=\"dataframe\">\n",
       "  <thead>\n",
       "    <tr style=\"text-align: right;\">\n",
       "      <th></th>\n",
       "      <th>age</th>\n",
       "      <th>sex</th>\n",
       "      <th>cp</th>\n",
       "      <th>trtbps</th>\n",
       "      <th>chol</th>\n",
       "      <th>restecg</th>\n",
       "      <th>thalach</th>\n",
       "      <th>output</th>\n",
       "      <th>cp_is_3</th>\n",
       "      <th>cp_is_2</th>\n",
       "      <th>cp_is_1</th>\n",
       "      <th>cp_is_0</th>\n",
       "    </tr>\n",
       "  </thead>\n",
       "  <tbody>\n",
       "    <tr>\n",
       "      <th>0</th>\n",
       "      <td>63</td>\n",
       "      <td>1</td>\n",
       "      <td>3</td>\n",
       "      <td>145</td>\n",
       "      <td>233</td>\n",
       "      <td>0</td>\n",
       "      <td>150</td>\n",
       "      <td>1</td>\n",
       "      <td>True</td>\n",
       "      <td>False</td>\n",
       "      <td>False</td>\n",
       "      <td>False</td>\n",
       "    </tr>\n",
       "    <tr>\n",
       "      <th>1</th>\n",
       "      <td>37</td>\n",
       "      <td>1</td>\n",
       "      <td>2</td>\n",
       "      <td>130</td>\n",
       "      <td>250</td>\n",
       "      <td>1</td>\n",
       "      <td>187</td>\n",
       "      <td>1</td>\n",
       "      <td>False</td>\n",
       "      <td>True</td>\n",
       "      <td>False</td>\n",
       "      <td>False</td>\n",
       "    </tr>\n",
       "    <tr>\n",
       "      <th>2</th>\n",
       "      <td>56</td>\n",
       "      <td>1</td>\n",
       "      <td>1</td>\n",
       "      <td>120</td>\n",
       "      <td>236</td>\n",
       "      <td>1</td>\n",
       "      <td>178</td>\n",
       "      <td>1</td>\n",
       "      <td>False</td>\n",
       "      <td>False</td>\n",
       "      <td>True</td>\n",
       "      <td>False</td>\n",
       "    </tr>\n",
       "    <tr>\n",
       "      <th>3</th>\n",
       "      <td>57</td>\n",
       "      <td>0</td>\n",
       "      <td>0</td>\n",
       "      <td>120</td>\n",
       "      <td>354</td>\n",
       "      <td>1</td>\n",
       "      <td>163</td>\n",
       "      <td>1</td>\n",
       "      <td>False</td>\n",
       "      <td>False</td>\n",
       "      <td>False</td>\n",
       "      <td>True</td>\n",
       "    </tr>\n",
       "    <tr>\n",
       "      <th>4</th>\n",
       "      <td>57</td>\n",
       "      <td>1</td>\n",
       "      <td>0</td>\n",
       "      <td>140</td>\n",
       "      <td>192</td>\n",
       "      <td>1</td>\n",
       "      <td>148</td>\n",
       "      <td>1</td>\n",
       "      <td>False</td>\n",
       "      <td>False</td>\n",
       "      <td>False</td>\n",
       "      <td>True</td>\n",
       "    </tr>\n",
       "  </tbody>\n",
       "</table>\n",
       "</div>"
      ],
      "text/plain": [
       "   age sex cp  trtbps  chol restecg  thalach output  cp_is_3  cp_is_2  \\\n",
       "0   63   1  3     145   233       0      150      1     True    False   \n",
       "1   37   1  2     130   250       1      187      1    False     True   \n",
       "2   56   1  1     120   236       1      178      1    False    False   \n",
       "3   57   0  0     120   354       1      163      1    False    False   \n",
       "4   57   1  0     140   192       1      148      1    False    False   \n",
       "\n",
       "   cp_is_1  cp_is_0  \n",
       "0    False    False  \n",
       "1    False    False  \n",
       "2     True    False  \n",
       "3    False     True  \n",
       "4    False     True  "
      ]
     },
     "execution_count": 96,
     "metadata": {},
     "output_type": "execute_result"
    }
   ],
   "source": [
    "#creating the variables to do one versus rest from cp categories\n",
    "ha['cp_is_3'] = ha['cp'] == 3\n",
    "ha['cp_is_2'] = ha['cp'] == 2\n",
    "ha['cp_is_1'] = ha['cp'] == 1\n",
    "ha['cp_is_0'] = ha['cp'] == 0\n",
    "ha.head()"
   ]
  },
  {
   "cell_type": "markdown",
   "metadata": {
    "id": "V6DOseevXnkQ"
   },
   "source": [
    "### OvR cp_is_3 vs rest"
   ]
  },
  {
   "cell_type": "code",
   "execution_count": 97,
   "metadata": {
    "colab": {
     "base_uri": "https://localhost:8080/",
     "height": 206
    },
    "id": "90PfjsjW1T2Y",
    "outputId": "a8025432-94bc-44f7-8bb3-7f7abbe10444"
   },
   "outputs": [
    {
     "data": {
      "text/html": [
       "<div>\n",
       "<style scoped>\n",
       "    .dataframe tbody tr th:only-of-type {\n",
       "        vertical-align: middle;\n",
       "    }\n",
       "\n",
       "    .dataframe tbody tr th {\n",
       "        vertical-align: top;\n",
       "    }\n",
       "\n",
       "    .dataframe thead th {\n",
       "        text-align: right;\n",
       "    }\n",
       "</style>\n",
       "<table border=\"1\" class=\"dataframe\">\n",
       "  <thead>\n",
       "    <tr style=\"text-align: right;\">\n",
       "      <th></th>\n",
       "      <th>lambdas</th>\n",
       "      <th>alphas</th>\n",
       "      <th>f1_score</th>\n",
       "    </tr>\n",
       "  </thead>\n",
       "  <tbody>\n",
       "    <tr>\n",
       "      <th>0</th>\n",
       "      <td>0.0001</td>\n",
       "      <td>0.1</td>\n",
       "      <td>0.0</td>\n",
       "    </tr>\n",
       "  </tbody>\n",
       "</table>\n",
       "</div>"
      ],
      "text/plain": [
       "  lambdas alphas  f1_score\n",
       "0  0.0001    0.1       0.0"
      ]
     },
     "execution_count": 97,
     "metadata": {},
     "output_type": "execute_result"
    }
   ],
   "source": [
    "X= ha.drop(['cp', \"cp_is_3\", \"cp_is_2\",\"cp_is_1\",\"cp_is_0\"], axis=1)\n",
    "y = ha[\"cp_is_3\"]\n",
    "\n",
    "#Model Specification\n",
    "logreg = LogisticRegression(penalty='elasticnet',solver='saga')\n",
    "\n",
    "#pipeline Creation\n",
    "model_2_pipeline = Pipeline(\n",
    "    [(\"preprocessing\", ct),\n",
    "    (\"logisticreg_classification\", logreg)]\n",
    "  )\n",
    "#tuning using grid Search\n",
    "params = {'logisticreg_classification__C': [.0001, .001, .01, .1, 1, 10],\n",
    "          'logisticreg_classification__l1_ratio':[.1, .2, .4, .6, .8, .9]}\n",
    "\n",
    "gscv = GridSearchCV(model_2_pipeline, params, cv=cv, scoring='f1')\n",
    "\n",
    "gscv_fitted = gscv.fit(X, y)\n",
    "\n",
    "# Getting the scores from the results\n",
    "mean_test_scores = gscv_fitted.cv_results_['mean_test_score']\n",
    "\n",
    "# Getting the parameters corresponding to the models from the results\n",
    "lambdas = gscv_fitted.cv_results_['param_logisticreg_classification__C']\n",
    "alphas = gscv_fitted.cv_results_['param_logisticreg_classification__l1_ratio']\n",
    "\n",
    "# Creating a DataFrame with best parameters and scores\n",
    "model_scores = pd.DataFrame(data={\"lambdas\": lambdas, \"alphas\": alphas, \"f1_score\": mean_test_scores}).sort_values(by='f1_score', ascending=False)\n",
    "model_scores[0:1]"
   ]
  },
  {
   "cell_type": "markdown",
   "metadata": {
    "id": "vLNN0NtuX1su"
   },
   "source": [
    "- note an f1 score of 0 is not impossible but it perhaps says something about our procedure. We go forward to see how the rest perform"
   ]
  },
  {
   "cell_type": "markdown",
   "metadata": {
    "id": "4XT9q0iHX-20"
   },
   "source": [
    "### OvR cp_is_2 vs rest"
   ]
  },
  {
   "cell_type": "code",
   "execution_count": 98,
   "metadata": {
    "colab": {
     "base_uri": "https://localhost:8080/",
     "height": 206
    },
    "id": "yZ3vtgJkhfMJ",
    "outputId": "e12d2230-74ee-4ce0-c45c-918ab41cc8fd"
   },
   "outputs": [
    {
     "data": {
      "text/html": [
       "<div>\n",
       "<style scoped>\n",
       "    .dataframe tbody tr th:only-of-type {\n",
       "        vertical-align: middle;\n",
       "    }\n",
       "\n",
       "    .dataframe tbody tr th {\n",
       "        vertical-align: top;\n",
       "    }\n",
       "\n",
       "    .dataframe thead th {\n",
       "        text-align: right;\n",
       "    }\n",
       "</style>\n",
       "<table border=\"1\" class=\"dataframe\">\n",
       "  <thead>\n",
       "    <tr style=\"text-align: right;\">\n",
       "      <th></th>\n",
       "      <th>lambdas</th>\n",
       "      <th>alphas</th>\n",
       "      <th>f1_score</th>\n",
       "    </tr>\n",
       "  </thead>\n",
       "  <tbody>\n",
       "    <tr>\n",
       "      <th>35</th>\n",
       "      <td>10</td>\n",
       "      <td>0.9</td>\n",
       "      <td>0.136768</td>\n",
       "    </tr>\n",
       "  </tbody>\n",
       "</table>\n",
       "</div>"
      ],
      "text/plain": [
       "   lambdas alphas  f1_score\n",
       "35      10    0.9  0.136768"
      ]
     },
     "execution_count": 98,
     "metadata": {},
     "output_type": "execute_result"
    }
   ],
   "source": [
    "X= ha.drop(['cp', \"cp_is_3\", \"cp_is_2\",\"cp_is_1\",\"cp_is_0\"], axis=1)\n",
    "y = ha[\"cp_is_2\"]\n",
    "\n",
    "#Model Specification\n",
    "logreg = LogisticRegression(penalty='elasticnet',solver='saga')\n",
    "\n",
    "#pipeline Creation\n",
    "model_2_pipeline = Pipeline(\n",
    "    [(\"preprocessing\", ct),\n",
    "    (\"logisticreg_classification\", logreg)]\n",
    "  )\n",
    "#tuning using grid Search\n",
    "params = {'logisticreg_classification__C': [.0001, .001, .01, .1, 1, 10],\n",
    "          'logisticreg_classification__l1_ratio':[.1, .2, .4, .6, .8, .9]}\n",
    "\n",
    "gscv = GridSearchCV(model_2_pipeline, params, cv=cv, scoring='f1')\n",
    "\n",
    "gscv_fitted = gscv.fit(X, y)\n",
    "\n",
    "# Getting the scores from the results\n",
    "mean_test_scores = gscv_fitted.cv_results_['mean_test_score']\n",
    "\n",
    "# Getting the parameters corresponding to the models from the results\n",
    "lambdas = gscv_fitted.cv_results_['param_logisticreg_classification__C']\n",
    "alphas = gscv_fitted.cv_results_['param_logisticreg_classification__l1_ratio']\n",
    "\n",
    "# Creating a DataFrame with best parameters and scores\n",
    "model_scores = pd.DataFrame(data={\"lambdas\": lambdas, \"alphas\": alphas, \"f1_score\": mean_test_scores}).sort_values(by='f1_score', ascending=False)\n",
    "model_scores[0:1]"
   ]
  },
  {
   "cell_type": "markdown",
   "metadata": {
    "id": "vkkFO8rPYFzf"
   },
   "source": [
    "- Note an f1 score for cp of 2 vs rest means that the model is perhaps not the best at finding the cp 2."
   ]
  },
  {
   "cell_type": "markdown",
   "metadata": {
    "id": "zw_ey38OYF_v"
   },
   "source": [
    "### OvR cp_is_1 vs rest"
   ]
  },
  {
   "cell_type": "code",
   "execution_count": 99,
   "metadata": {
    "colab": {
     "base_uri": "https://localhost:8080/",
     "height": 206
    },
    "id": "-ZSSgXtLhs6o",
    "outputId": "d12de63c-c6cc-49ce-8c69-331e8806541b"
   },
   "outputs": [
    {
     "data": {
      "text/html": [
       "<div>\n",
       "<style scoped>\n",
       "    .dataframe tbody tr th:only-of-type {\n",
       "        vertical-align: middle;\n",
       "    }\n",
       "\n",
       "    .dataframe tbody tr th {\n",
       "        vertical-align: top;\n",
       "    }\n",
       "\n",
       "    .dataframe thead th {\n",
       "        text-align: right;\n",
       "    }\n",
       "</style>\n",
       "<table border=\"1\" class=\"dataframe\">\n",
       "  <thead>\n",
       "    <tr style=\"text-align: right;\">\n",
       "      <th></th>\n",
       "      <th>lambdas</th>\n",
       "      <th>alphas</th>\n",
       "      <th>f1_score</th>\n",
       "    </tr>\n",
       "  </thead>\n",
       "  <tbody>\n",
       "    <tr>\n",
       "      <th>0</th>\n",
       "      <td>0.0001</td>\n",
       "      <td>0.1</td>\n",
       "      <td>0.0</td>\n",
       "    </tr>\n",
       "  </tbody>\n",
       "</table>\n",
       "</div>"
      ],
      "text/plain": [
       "  lambdas alphas  f1_score\n",
       "0  0.0001    0.1       0.0"
      ]
     },
     "execution_count": 99,
     "metadata": {},
     "output_type": "execute_result"
    }
   ],
   "source": [
    "X= ha.drop(['cp', \"cp_is_3\", \"cp_is_2\",\"cp_is_1\",\"cp_is_0\"], axis=1)\n",
    "y = ha[\"cp_is_1\"]\n",
    "\n",
    "#Model Specification\n",
    "logreg = LogisticRegression(penalty='elasticnet',solver='saga')\n",
    "\n",
    "#pipeline Creation\n",
    "model_2_pipeline = Pipeline(\n",
    "    [(\"preprocessing\", ct),\n",
    "    (\"logisticreg_classification\", logreg)]\n",
    "  )\n",
    "#tuning using grid Search\n",
    "params = {'logisticreg_classification__C': [.0001, .001, .01, .1, 1, 10],\n",
    "          'logisticreg_classification__l1_ratio':[.1, .2, .4, .6, .8, .9]}\n",
    "\n",
    "gscv = GridSearchCV(model_2_pipeline, params, cv=cv, scoring='f1')\n",
    "\n",
    "gscv_fitted = gscv.fit(X, y)\n",
    "\n",
    "# Getting the scores from the results\n",
    "mean_test_scores = gscv_fitted.cv_results_['mean_test_score']\n",
    "\n",
    "# Getting the parameters corresponding to the models from the results\n",
    "lambdas = gscv_fitted.cv_results_['param_logisticreg_classification__C']\n",
    "alphas = gscv_fitted.cv_results_['param_logisticreg_classification__l1_ratio']\n",
    "\n",
    "# Creating a DataFrame with best parameters and scores\n",
    "model_scores = pd.DataFrame(data={\"lambdas\": lambdas, \"alphas\": alphas, \"f1_score\": mean_test_scores}).sort_values(by='f1_score', ascending=False)\n",
    "model_scores[0:1]"
   ]
  },
  {
   "cell_type": "markdown",
   "metadata": {
    "id": "QXFqk--AYTIy"
   },
   "source": [
    "- Note another f1 score of 0 says this is perhhaps not the best way to approach finding the cp of 1"
   ]
  },
  {
   "cell_type": "markdown",
   "metadata": {
    "id": "tN_tUdtaYdMU"
   },
   "source": [
    "### OvR cp_is_0 vs rest"
   ]
  },
  {
   "cell_type": "code",
   "execution_count": 100,
   "metadata": {
    "colab": {
     "base_uri": "https://localhost:8080/",
     "height": 206
    },
    "id": "IdbMRO4ChuRY",
    "outputId": "00bf59c2-221b-420a-b462-fca2d4e8c477"
   },
   "outputs": [
    {
     "data": {
      "text/html": [
       "<div>\n",
       "<style scoped>\n",
       "    .dataframe tbody tr th:only-of-type {\n",
       "        vertical-align: middle;\n",
       "    }\n",
       "\n",
       "    .dataframe tbody tr th {\n",
       "        vertical-align: top;\n",
       "    }\n",
       "\n",
       "    .dataframe thead th {\n",
       "        text-align: right;\n",
       "    }\n",
       "</style>\n",
       "<table border=\"1\" class=\"dataframe\">\n",
       "  <thead>\n",
       "    <tr style=\"text-align: right;\">\n",
       "      <th></th>\n",
       "      <th>lambdas</th>\n",
       "      <th>alphas</th>\n",
       "      <th>f1_score</th>\n",
       "    </tr>\n",
       "  </thead>\n",
       "  <tbody>\n",
       "    <tr>\n",
       "      <th>22</th>\n",
       "      <td>0.1</td>\n",
       "      <td>0.8</td>\n",
       "      <td>0.727824</td>\n",
       "    </tr>\n",
       "  </tbody>\n",
       "</table>\n",
       "</div>"
      ],
      "text/plain": [
       "   lambdas alphas  f1_score\n",
       "22     0.1    0.8  0.727824"
      ]
     },
     "execution_count": 100,
     "metadata": {},
     "output_type": "execute_result"
    }
   ],
   "source": [
    "X= ha.drop(['cp', \"cp_is_3\", \"cp_is_2\",\"cp_is_1\",\"cp_is_0\"], axis=1)\n",
    "y = ha[\"cp_is_0\"]\n",
    "\n",
    "#Model Specification\n",
    "logreg = LogisticRegression(penalty='elasticnet',solver='saga')\n",
    "\n",
    "#pipeline Creation\n",
    "model_2_pipeline = Pipeline(\n",
    "    [(\"preprocessing\", ct),\n",
    "    (\"logisticreg_classification\", logreg)]\n",
    "  )\n",
    "#tuning using grid Search\n",
    "params = {'logisticreg_classification__C': [.0001, .001, .01, .1, 1, 10],\n",
    "          'logisticreg_classification__l1_ratio':[.1, .2, .4, .6, .8, .9]}\n",
    "\n",
    "gscv = GridSearchCV(model_2_pipeline, params, cv=cv, scoring='f1')\n",
    "\n",
    "gscv_fitted = gscv.fit(X, y)\n",
    "\n",
    "# Getting the scores from the results\n",
    "mean_test_scores = gscv_fitted.cv_results_['mean_test_score']\n",
    "\n",
    "# Getting the parameters corresponding to the models from the results\n",
    "lambdas = gscv_fitted.cv_results_['param_logisticreg_classification__C']\n",
    "alphas = gscv_fitted.cv_results_['param_logisticreg_classification__l1_ratio']\n",
    "\n",
    "# Creating a DataFrame with best parameters and scores\n",
    "model_scores = pd.DataFrame(data={\"lambdas\": lambdas, \"alphas\": alphas, \"f1_score\": mean_test_scores}).sort_values(by='f1_score', ascending=False)\n",
    "model_scores[0:1]"
   ]
  },
  {
   "cell_type": "markdown",
   "metadata": {
    "id": "xtX2y0pNYgpy"
   },
   "source": [
    "- this is the only model that is remotely acceptable in terms of performance as measured by f1 score with a score of .72, to predict chest pain category 0 with respect to the rest of the types of chest pain, this is perhaps due to the data itself where there are more observations with cp 0 relative to the other categories."
   ]
  },
  {
   "cell_type": "markdown",
   "metadata": {
    "id": "lXO3jbTU1ULR"
   },
   "source": [
    "## Q3: OvO\n",
    "\n",
    "Reduce your dataset to only the `0` and `1` types of chest pain.\n",
    "\n",
    "Then, fit a Logistic Regression to predict between the two groups, and report the **ROC-AUC**.  \n",
    "\n",
    "Repeat comparing category `0` to `2` and `3`.  Which pair was the OvO approach best at distinguishing?"
   ]
  },
  {
   "cell_type": "markdown",
   "metadata": {
    "id": "lwU5bFgGYzSa"
   },
   "source": [
    "### OvO cp 0 vs 1"
   ]
  },
  {
   "cell_type": "code",
   "execution_count": 101,
   "metadata": {
    "colab": {
     "base_uri": "https://localhost:8080/",
     "height": 206
    },
    "id": "ASNzEwich9TD",
    "outputId": "fa2cbb7f-fb91-4680-edf4-1ef153a55874"
   },
   "outputs": [
    {
     "data": {
      "text/html": [
       "<div>\n",
       "<style scoped>\n",
       "    .dataframe tbody tr th:only-of-type {\n",
       "        vertical-align: middle;\n",
       "    }\n",
       "\n",
       "    .dataframe tbody tr th {\n",
       "        vertical-align: top;\n",
       "    }\n",
       "\n",
       "    .dataframe thead th {\n",
       "        text-align: right;\n",
       "    }\n",
       "</style>\n",
       "<table border=\"1\" class=\"dataframe\">\n",
       "  <thead>\n",
       "    <tr style=\"text-align: right;\">\n",
       "      <th></th>\n",
       "      <th>lambdas</th>\n",
       "      <th>alphas</th>\n",
       "      <th>roc_auc_ovo</th>\n",
       "    </tr>\n",
       "  </thead>\n",
       "  <tbody>\n",
       "    <tr>\n",
       "      <th>21</th>\n",
       "      <td>0.1</td>\n",
       "      <td>0.6</td>\n",
       "      <td>0.835962</td>\n",
       "    </tr>\n",
       "  </tbody>\n",
       "</table>\n",
       "</div>"
      ],
      "text/plain": [
       "   lambdas alphas  roc_auc_ovo\n",
       "21     0.1    0.6     0.835962"
      ]
     },
     "execution_count": 101,
     "metadata": {},
     "output_type": "execute_result"
    }
   ],
   "source": [
    "ha_0_1 = ha[(ha['cp'] == 0) | (ha['cp'] == 1)]\n",
    "ha_0_1 = ha_0_1.drop([\"cp_is_3\",\"cp_is_2\",\"cp_is_1\",\"cp_is_0\"], axis = 1)\n",
    "\n",
    "X = ha_0_1.drop(['cp'], axis = 1)\n",
    "y = ha_0_1[\"cp\"]\n",
    "\n",
    "#Model Specification\n",
    "logreg = LogisticRegression(penalty='elasticnet',solver='saga')\n",
    "\n",
    "#pipeline Creation\n",
    "model_2_pipeline = Pipeline(\n",
    "    [(\"preprocessing\", ct),\n",
    "    (\"logisticreg_classification\", logreg)]\n",
    "  )\n",
    "#tuning using grid Search\n",
    "params = {'logisticreg_classification__C': [.0001, .001, .01, .1, 1, 10],\n",
    "          'logisticreg_classification__l1_ratio':[.1, .2, .4, .6, .8, .9]}\n",
    "\n",
    "gscv = GridSearchCV(model_2_pipeline, params, cv=cv, scoring='roc_auc_ovo')\n",
    "\n",
    "gscv_fitted = gscv.fit(X, y)\n",
    "\n",
    "# Getting the scores from the results\n",
    "mean_test_scores = gscv_fitted.cv_results_['mean_test_score']\n",
    "\n",
    "# Getting the parameters corresponding to the models from the results\n",
    "lambdas = gscv_fitted.cv_results_['param_logisticreg_classification__C']\n",
    "alphas = gscv_fitted.cv_results_['param_logisticreg_classification__l1_ratio']\n",
    "\n",
    "# Creating a DataFrame with best parameters and scores\n",
    "model_scores = pd.DataFrame(data={\"lambdas\": lambdas, \"alphas\": alphas, \"roc_auc_ovo\": mean_test_scores}).sort_values(by='roc_auc_ovo', ascending=False)\n",
    "model_scores[0:1]"
   ]
  },
  {
   "cell_type": "markdown",
   "metadata": {
    "id": "juxDMXfbY7v9"
   },
   "source": [
    "A Roc_auc_ovo score of 84% is quite admirable between chest pain category 0 and 1."
   ]
  },
  {
   "cell_type": "markdown",
   "metadata": {
    "id": "M7HXaQxZZDox"
   },
   "source": [
    "### OvO cp 0 vs 2"
   ]
  },
  {
   "cell_type": "code",
   "execution_count": 102,
   "metadata": {
    "colab": {
     "base_uri": "https://localhost:8080/",
     "height": 206
    },
    "id": "aXTuN_6clqpH",
    "outputId": "eee5e74a-8164-4ca5-95c9-9c0fb6beb430"
   },
   "outputs": [
    {
     "data": {
      "text/html": [
       "<div>\n",
       "<style scoped>\n",
       "    .dataframe tbody tr th:only-of-type {\n",
       "        vertical-align: middle;\n",
       "    }\n",
       "\n",
       "    .dataframe tbody tr th {\n",
       "        vertical-align: top;\n",
       "    }\n",
       "\n",
       "    .dataframe thead th {\n",
       "        text-align: right;\n",
       "    }\n",
       "</style>\n",
       "<table border=\"1\" class=\"dataframe\">\n",
       "  <thead>\n",
       "    <tr style=\"text-align: right;\">\n",
       "      <th></th>\n",
       "      <th>lambdas</th>\n",
       "      <th>alphas</th>\n",
       "      <th>roc_auc_ovo</th>\n",
       "    </tr>\n",
       "  </thead>\n",
       "  <tbody>\n",
       "    <tr>\n",
       "      <th>23</th>\n",
       "      <td>0.1</td>\n",
       "      <td>0.9</td>\n",
       "      <td>0.782519</td>\n",
       "    </tr>\n",
       "  </tbody>\n",
       "</table>\n",
       "</div>"
      ],
      "text/plain": [
       "   lambdas alphas  roc_auc_ovo\n",
       "23     0.1    0.9     0.782519"
      ]
     },
     "execution_count": 102,
     "metadata": {},
     "output_type": "execute_result"
    }
   ],
   "source": [
    "ha_0_2 = ha[(ha['cp'] == 0) | (ha['cp'] == 2)]\n",
    "ha_0_2 = ha_0_2.drop([\"cp_is_3\",\"cp_is_2\",\"cp_is_1\",\"cp_is_0\"], axis = 1)\n",
    "\n",
    "X = ha_0_2.drop(['cp'], axis = 1)\n",
    "y = ha_0_2[\"cp\"]\n",
    "\n",
    "#Model Specification\n",
    "logreg = LogisticRegression(penalty='elasticnet',solver='saga')\n",
    "\n",
    "#pipeline Creation\n",
    "model_2_pipeline = Pipeline(\n",
    "    [(\"preprocessing\", ct),\n",
    "    (\"logisticreg_classification\", logreg)]\n",
    "  )\n",
    "#tuning using grid Search\n",
    "params = {'logisticreg_classification__C': [.0001, .001, .01, .1, 1, 10],\n",
    "          'logisticreg_classification__l1_ratio':[.1, .2, .4, .6, .8, .9]}\n",
    "\n",
    "gscv = GridSearchCV(model_2_pipeline, params, cv=cv, scoring='roc_auc_ovo')\n",
    "\n",
    "gscv_fitted = gscv.fit(X, y)\n",
    "\n",
    "# Getting the scores from the results\n",
    "mean_test_scores = gscv_fitted.cv_results_['mean_test_score']\n",
    "\n",
    "# Getting the parameters corresponding to the models from the results\n",
    "lambdas = gscv_fitted.cv_results_['param_logisticreg_classification__C']\n",
    "alphas = gscv_fitted.cv_results_['param_logisticreg_classification__l1_ratio']\n",
    "\n",
    "# Creating a DataFrame with best parameters and scores\n",
    "model_scores = pd.DataFrame(data={\"lambdas\": lambdas, \"alphas\": alphas, \"roc_auc_ovo\": mean_test_scores}).sort_values(by='roc_auc_ovo', ascending=False)\n",
    "model_scores[0:1]"
   ]
  },
  {
   "cell_type": "markdown",
   "metadata": {
    "id": "1psFCL34ZDxk"
   },
   "source": [
    "- a roc_auc_ovo score of 78% is still good for predicting between cp categoreies 0 and 2."
   ]
  },
  {
   "cell_type": "markdown",
   "metadata": {
    "id": "DOG69hufZVIb"
   },
   "source": [
    "### OvO cp 0 vs 3"
   ]
  },
  {
   "cell_type": "code",
   "execution_count": 103,
   "metadata": {
    "colab": {
     "base_uri": "https://localhost:8080/",
     "height": 80
    },
    "id": "X8C9KXsnlq1x",
    "outputId": "0ef1b55c-20ad-41f6-e27e-5c5fa0194bfb"
   },
   "outputs": [
    {
     "data": {
      "text/html": [
       "<div>\n",
       "<style scoped>\n",
       "    .dataframe tbody tr th:only-of-type {\n",
       "        vertical-align: middle;\n",
       "    }\n",
       "\n",
       "    .dataframe tbody tr th {\n",
       "        vertical-align: top;\n",
       "    }\n",
       "\n",
       "    .dataframe thead th {\n",
       "        text-align: right;\n",
       "    }\n",
       "</style>\n",
       "<table border=\"1\" class=\"dataframe\">\n",
       "  <thead>\n",
       "    <tr style=\"text-align: right;\">\n",
       "      <th></th>\n",
       "      <th>lambdas</th>\n",
       "      <th>alphas</th>\n",
       "      <th>roc_auc_ovo</th>\n",
       "    </tr>\n",
       "  </thead>\n",
       "  <tbody>\n",
       "    <tr>\n",
       "      <th>19</th>\n",
       "      <td>0.1</td>\n",
       "      <td>0.2</td>\n",
       "      <td>0.760897</td>\n",
       "    </tr>\n",
       "  </tbody>\n",
       "</table>\n",
       "</div>"
      ],
      "text/plain": [
       "   lambdas alphas  roc_auc_ovo\n",
       "19     0.1    0.2     0.760897"
      ]
     },
     "execution_count": 103,
     "metadata": {},
     "output_type": "execute_result"
    }
   ],
   "source": [
    "ha_0_3 = ha[(ha['cp'] == 0) | (ha['cp'] == 3)]\n",
    "ha_0_3 = ha_0_3.drop([\"cp_is_3\",\"cp_is_2\",\"cp_is_1\",\"cp_is_0\"], axis = 1)\n",
    "\n",
    "X = ha_0_3.drop(['cp'], axis = 1)\n",
    "y = ha_0_3[\"cp\"]\n",
    "\n",
    "#Model Specification\n",
    "logreg = LogisticRegression(penalty='elasticnet',solver='saga')\n",
    "\n",
    "#pipeline Creation\n",
    "model_2_pipeline = Pipeline(\n",
    "    [(\"preprocessing\", ct),\n",
    "    (\"logisticreg_classification\", logreg)]\n",
    "  )\n",
    "#tuning using grid Search\n",
    "params = {'logisticreg_classification__C': [.0001, .001, .01, .1, 1, 10],\n",
    "          'logisticreg_classification__l1_ratio':[.1, .2, .4, .6, .8, .9]}\n",
    "\n",
    "gscv = GridSearchCV(model_2_pipeline, params, cv=cv, scoring='roc_auc_ovo')\n",
    "\n",
    "gscv_fitted = gscv.fit(X, y)\n",
    "\n",
    "# Getting the scores from the results\n",
    "mean_test_scores = gscv_fitted.cv_results_['mean_test_score']\n",
    "\n",
    "# Getting the parameters corresponding to the models from the results\n",
    "lambdas = gscv_fitted.cv_results_['param_logisticreg_classification__C']\n",
    "alphas = gscv_fitted.cv_results_['param_logisticreg_classification__l1_ratio']\n",
    "\n",
    "# Creating a DataFrame with best parameters and scores\n",
    "model_scores = pd.DataFrame(data={\"lambdas\": lambdas, \"alphas\": alphas, \"roc_auc_ovo\": mean_test_scores}).sort_values(by='roc_auc_ovo', ascending=False)\n",
    "\n",
    "model_scores[0:1]"
   ]
  },
  {
   "cell_type": "markdown",
   "metadata": {
    "id": "QqlYpyv0ZiL2"
   },
   "source": [
    "- a roc_auc_ovo score of 76% is still good for categories cp 0 vs 3."
   ]
  },
  {
   "cell_type": "markdown",
   "metadata": {
    "id": "3riKqjBln020"
   },
   "source": [
    "### Which pair was the OvO approach best at distinguishing?"
   ]
  },
  {
   "cell_type": "markdown",
   "metadata": {
    "id": "G-Dt68MZrlwG"
   },
   "source": [
    "The best pair to distinguish from in terms of our logistic regression models was chest pain category 0 and 1. The roc auc ovo score for the model was 84% which was greatly increased compared to the others of 78% and 76% for chest pain categories 0 vs 2 and 0 vs 3 respectively."
   ]
  }
 ],
 "metadata": {
  "colab": {
   "provenance": []
  },
  "kernelspec": {
   "display_name": "Python 3 (ipykernel)",
   "language": "python",
   "name": "python3"
  },
  "language_info": {
   "codemirror_mode": {
    "name": "ipython",
    "version": 3
   },
   "file_extension": ".py",
   "mimetype": "text/x-python",
   "name": "python",
   "nbconvert_exporter": "python",
   "pygments_lexer": "ipython3",
   "version": "3.11.4"
  }
 },
 "nbformat": 4,
 "nbformat_minor": 1
}
